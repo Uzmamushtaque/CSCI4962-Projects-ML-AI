{
  "nbformat": 4,
  "nbformat_minor": 0,
  "metadata": {
    "colab": {
      "name": "Lecture 10.ipynb",
      "provenance": [],
      "collapsed_sections": [],
      "authorship_tag": "ABX9TyOWHpFuW/UyHmL4Q6As/Dyu",
      "include_colab_link": true
    },
    "kernelspec": {
      "name": "python3",
      "display_name": "Python 3"
    },
    "language_info": {
      "name": "python"
    }
  },
  "cells": [
    {
      "cell_type": "markdown",
      "metadata": {
        "id": "view-in-github",
        "colab_type": "text"
      },
      "source": [
        "<a href=\"https://colab.research.google.com/github/Uzmamushtaque/CSCI4962-Projects-ML-AI/blob/main/Lecture_10.ipynb\" target=\"_parent\"><img src=\"https://colab.research.google.com/assets/colab-badge.svg\" alt=\"Open In Colab\"/></a>"
      ]
    },
    {
      "cell_type": "markdown",
      "metadata": {
        "id": "pz66htzbwalF"
      },
      "source": [
        "# Lecture 10\n",
        "\n",
        "# Today's Topics\n",
        "\n",
        "1. What is Computer Vision?\n",
        "2. Introduction to Convolution Neural Networks (CNNs)\n",
        "3. Basic Architecture\n",
        "4. Applications"
      ]
    },
    {
      "cell_type": "markdown",
      "metadata": {
        "id": "vjcdmgALz448"
      },
      "source": [
        "# Computer Vision\n",
        "\n",
        "Computer vision is a field of study focused on the problem of helping computers to see. \n",
        "\n",
        "It is a multidisciplinary field that could broadly be called a subfield of artificial intelligence and machine learning. The goal of computer vision is to understand the content of digital images. \n",
        "\n",
        "Typically, this involves developing methods that attempt to reproduce the capability of human vision.\n",
        "\n",
        "Computer vision seems easy, perhaps because it is so effortless for humans.\n",
        "\n",
        "*Making a computer see was something that leading experts in the field of Artificial Intelligence thought to be at the level of difficulty of a summer student’s project back in the sixties. Forty years later the task is still unsolved and seems formidable.*\n",
        "\n",
        "— Page xi, Multiple View Geometry in Computer Vision, 2004.\n",
        "\n",
        "One important reason behind computer vision being such a difficult problem is the inherent complexity of viewing an object (A given object may be seen from any orientation, in any lighting conditions, with any type of occlusion from other objects, and so on)."
      ]
    },
    {
      "cell_type": "markdown",
      "metadata": {
        "id": "myDT5pBD3C0A"
      },
      "source": [
        "# Introduction to Convolution Neural Networks (CNNs)\n",
        "\n",
        "A Convolutional neural network (CNN) is a neural network that has one or more convolutional layers and is used mainly for image processing, classification, segmentation. Their basic structure is similar to any ANN with the exception that these are modified for image specific tasks.\n",
        "\n",
        "One of the largest limitations of traditional forms of ANN is that they tend to struggle with the computational complexity required to compute image data.\n",
        "\n",
        "[Source](https://arxiv.org/pdf/1511.08458.pdf)"
      ]
    }
  ]
}