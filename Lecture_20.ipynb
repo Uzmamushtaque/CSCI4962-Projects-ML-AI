{
  "nbformat": 4,
  "nbformat_minor": 0,
  "metadata": {
    "colab": {
      "name": "Lecture 20.ipynb",
      "provenance": [],
      "collapsed_sections": [],
      "authorship_tag": "ABX9TyPG1bpsG4x+zohmKdDtHHeB",
      "include_colab_link": true
    },
    "kernelspec": {
      "name": "python3",
      "display_name": "Python 3"
    },
    "language_info": {
      "name": "python"
    }
  },
  "cells": [
    {
      "cell_type": "markdown",
      "metadata": {
        "id": "view-in-github",
        "colab_type": "text"
      },
      "source": [
        "<a href=\"https://colab.research.google.com/github/Uzmamushtaque/CSCI4962-Projects-ML-AI/blob/main/Lecture_20.ipynb\" target=\"_parent\"><img src=\"https://colab.research.google.com/assets/colab-badge.svg\" alt=\"Open In Colab\"/></a>"
      ]
    },
    {
      "cell_type": "markdown",
      "metadata": {
        "id": "-U1y2WR4xo2G"
      },
      "source": [
        "# Lecture 20\n",
        "\n",
        "## Topics for Today\n",
        "\n",
        "1. Boltzmann Machines\n",
        "2. Energy based Models (EBMs)\n",
        "3. Restricted Boltzmann Machines (RBMs)\n",
        "4. Contrastive Divergence (CD)\n",
        "5. Deep Belief Networks (DBN)\n",
        "6. Deep Boltzmann Machines (DBM)"
      ]
    }
  ]
}