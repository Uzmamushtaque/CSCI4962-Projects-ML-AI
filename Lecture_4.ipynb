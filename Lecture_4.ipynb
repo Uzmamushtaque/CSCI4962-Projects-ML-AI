{
  "nbformat": 4,
  "nbformat_minor": 0,
  "metadata": {
    "colab": {
      "name": "Lecture 4.ipynb",
      "provenance": [],
      "collapsed_sections": [],
      "authorship_tag": "ABX9TyPHLNoO23mFd+sn1SgNvONB",
      "include_colab_link": true
    },
    "kernelspec": {
      "name": "python3",
      "display_name": "Python 3"
    },
    "language_info": {
      "name": "python"
    }
  },
  "cells": [
    {
      "cell_type": "markdown",
      "metadata": {
        "id": "view-in-github",
        "colab_type": "text"
      },
      "source": [
        "<a href=\"https://colab.research.google.com/github/Uzmamushtaque/CSCI4962-Projects-ML-AI/blob/main/Lecture_4.ipynb\" target=\"_parent\"><img src=\"https://colab.research.google.com/assets/colab-badge.svg\" alt=\"Open In Colab\"/></a>"
      ]
    },
    {
      "cell_type": "markdown",
      "metadata": {
        "id": "ZgbKg0qsnql1"
      },
      "source": [
        "# Lecture 4\n",
        "\n",
        "## Today's Lecture\n",
        "\n",
        "1. The Perceptron\n",
        "2. Neural Network\n",
        "3. Forward propogation and Backward propogation Algorithms"
      ]
    },
    {
      "cell_type": "markdown",
      "metadata": {
        "id": "4oFxui3HDmxg"
      },
      "source": [
        "# This week\n",
        "\n",
        "The focus this week is to understand how deep neural networks work. Because this week is math intensive, I will be using the following slides to write on all the material:\n",
        "\n",
        "[Not Inked](https://docs.google.com/presentation/d/1TjgId6qSQ5AdOt5AZFNHahRmvs5TMOHB/edit?usp=sharing&ouid=106143452455014751731&rtpof=true&sd=true)\n",
        "\n",
        "Inked slides will also be posted.\n",
        "\n",
        "[Inked](https://docs.google.com/presentation/d/1OkrARqcHGfYNTvP-ezZ5p1E4K5VMOFej/edit?usp=sharing&ouid=106143452455014751731&rtpof=true&sd=true)"
      ]
    },
    {
      "cell_type": "markdown",
      "metadata": {
        "id": "Wws_rCmv6W0e"
      },
      "source": [
        "# Papers to read\n",
        "\n",
        "[Paper 1](https://submitty.cs.rpi.edu/courses/f21/csci4962/display_file?course_material_id=7)\n",
        "\n",
        "This paper can be found under Course Materials on Submitty."
      ]
    }
  ]
}