{
  "nbformat": 4,
  "nbformat_minor": 0,
  "metadata": {
    "colab": {
      "name": "Lecture 6.ipynb",
      "provenance": [],
      "collapsed_sections": [],
      "authorship_tag": "ABX9TyNkp1eUhv04JgcROrIeLubP",
      "include_colab_link": true
    },
    "kernelspec": {
      "name": "python3",
      "display_name": "Python 3"
    },
    "language_info": {
      "name": "python"
    }
  },
  "cells": [
    {
      "cell_type": "markdown",
      "metadata": {
        "id": "view-in-github",
        "colab_type": "text"
      },
      "source": [
        "<a href=\"https://colab.research.google.com/github/Uzmamushtaque/CSCI4962-Projects-ML-AI/blob/main/Lecture_6.ipynb\" target=\"_parent\"><img src=\"https://colab.research.google.com/assets/colab-badge.svg\" alt=\"Open In Colab\"/></a>"
      ]
    },
    {
      "cell_type": "markdown",
      "metadata": {
        "id": "sDUThhqyzDhe"
      },
      "source": [
        "# Lecture 6\n",
        "\n",
        "# Topics for Today\n",
        "\n",
        "1. Issues to address when designing a ML/AI project\n",
        "2. Overall Strategy for a Deep Learning Project"
      ]
    },
    {
      "cell_type": "markdown",
      "metadata": {
        "id": "SF_Pi0iNCira"
      },
      "source": [
        "# Machine Learning Strategy\n",
        "\n",
        "Based on your first iteration through the model and getting results, you can decide on a number of updates to your models. Some of these can be:\n",
        "\n",
        "1. You want to collect more data\n",
        "2. You want to train your algorithm longer\n",
        "3. Try some optimization algorithm\n",
        "4. Use regularization\n",
        "5. Tune Hyperparameters\n",
        "\n",
        "\n",
        "There are efficient strategies that can help you move in the right direction. We will discuss a few of those in today's lecture.\n"
      ]
    },
    {
      "cell_type": "markdown",
      "metadata": {
        "id": "B4QYM0VUah5I"
      },
      "source": [
        ""
      ]
    }
  ]
}