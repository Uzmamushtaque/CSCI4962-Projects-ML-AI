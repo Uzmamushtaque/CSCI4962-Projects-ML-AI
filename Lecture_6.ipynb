{
  "nbformat": 4,
  "nbformat_minor": 0,
  "metadata": {
    "colab": {
      "name": "Lecture 6.ipynb",
      "provenance": [],
      "collapsed_sections": [],
      "authorship_tag": "ABX9TyMUmq0CUw9QCsv/yIRhS5pd",
      "include_colab_link": true
    },
    "kernelspec": {
      "name": "python3",
      "display_name": "Python 3"
    },
    "language_info": {
      "name": "python"
    }
  },
  "cells": [
    {
      "cell_type": "markdown",
      "metadata": {
        "id": "view-in-github",
        "colab_type": "text"
      },
      "source": [
        "<a href=\"https://colab.research.google.com/github/Uzmamushtaque/CSCI4962-Projects-ML-AI/blob/main/Lecture_6.ipynb\" target=\"_parent\"><img src=\"https://colab.research.google.com/assets/colab-badge.svg\" alt=\"Open In Colab\"/></a>"
      ]
    },
    {
      "cell_type": "markdown",
      "metadata": {
        "id": "sDUThhqyzDhe"
      },
      "source": [
        "# Lecture 6\n",
        "\n",
        "# Topics for Today\n",
        "\n",
        "1. Issues to address when designing a ML/AI project\n",
        "2. Overall Strategy for a Deep Learning Project"
      ]
    },
    {
      "cell_type": "markdown",
      "metadata": {
        "id": "SF_Pi0iNCira"
      },
      "source": [
        "# Machine Learning Strategy\n",
        "\n",
        "Based on your first iteration through the model and getting results, you can decide on a number of updates to your models. Some of these can be:\n",
        "\n",
        "1. You want to collect more data\n",
        "2. You want to train your algorithm longer\n",
        "3. Try some optimization algorithm\n",
        "4. Use regularization\n",
        "5. Tune Hyperparameters\n",
        "\n",
        "\n",
        "There are efficient strategies that can help you move in the right direction. We will discuss a few of those in today's lecture.\n"
      ]
    },
    {
      "cell_type": "markdown",
      "metadata": {
        "id": "4kthY9fDeHzl"
      },
      "source": [
        "# Tuning ML Process\n",
        "\n",
        "A typical ML process is:\n",
        "\n",
        "1. Fit training set on the cost function\n",
        "2. Fit dev set on the cost function\n",
        "3. Fit test set\n",
        "\n",
        "If the model performs well on all three steps then we are in an ideal world. Usually this is not the case, therefore we need to fine tune our model at each step. Each step has their own parameters to be tuned. For example if step 1 does not give a good result we may want to focus on getting more data or choosing a good optimization algorithm. In step 2 if we do not get good results, then we might need to use regularization. In step 3 the remedy could be to get a bigger dev set or maybe choose a different model. Thinking of these remedies but according to these 3 different directions is sometimes referred to as orthogonalization. Basically depending on the issue you are facing motivates your remedy."
      ]
    },
    {
      "cell_type": "markdown",
      "metadata": {
        "id": "vUT1_qybhZ71"
      },
      "source": [
        ""
      ]
    },
    {
      "cell_type": "markdown",
      "metadata": {
        "id": "B4QYM0VUah5I"
      },
      "source": [
        "# Readings\n",
        "\n",
        "[Paper 1](https://arxiv.org/pdf/1907.13359.pdf)"
      ]
    }
  ]
}