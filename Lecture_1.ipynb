{
  "nbformat": 4,
  "nbformat_minor": 0,
  "metadata": {
    "colab": {
      "name": "Lecture 1.ipynb",
      "provenance": [],
      "authorship_tag": "ABX9TyPbuqzK4lT8njXd1LAv8dJW",
      "include_colab_link": true
    },
    "kernelspec": {
      "name": "python3",
      "display_name": "Python 3"
    },
    "language_info": {
      "name": "python"
    }
  },
  "cells": [
    {
      "cell_type": "markdown",
      "metadata": {
        "id": "view-in-github",
        "colab_type": "text"
      },
      "source": [
        "<a href=\"https://colab.research.google.com/github/Uzmamushtaque/CSCI4962-Projects-ML-AI/blob/main/Lecture_1.ipynb\" target=\"_parent\"><img src=\"https://colab.research.google.com/assets/colab-badge.svg\" alt=\"Open In Colab\"/></a>"
      ]
    },
    {
      "cell_type": "markdown",
      "metadata": {
        "id": "D7z-3DppCkRr"
      },
      "source": [
        "# Lecture 1\n",
        "## Projects in ML and AI\n",
        "\n",
        "This course is an introduction to some fundamental Machine learning Algorithms in general and Deep Learning in specific.\n",
        "\n",
        "## About the Course\n",
        "\n",
        "1. Syllabus\n",
        "2. Learning outcomes\n",
        "3. Grading\n",
        "4. Emphasis on Practical Applications\n",
        "5. Reading Papers"
      ]
    },
    {
      "cell_type": "markdown",
      "metadata": {
        "id": "I74YmrQtGk6e"
      },
      "source": [
        "# What is Machine Learning?\n",
        "\n",
        "1.   A machine learning algorithm is the process that uncovers the underlying relationship within the data. \n",
        "\n",
        "2.   The outcome of a machine learning algorithm is called machine learning model, which can be considered as a function , which outputs certain results, when given the input.\n",
        "\n",
        "3    Rather than a predefined and fixed function, a machine learning model is derived from historical data. Therefore, when fed with different data, the output of machine learning algorithm changes, i.e. the machine learning model changes.\n",
        "\n",
        "\n",
        "\n",
        "\n",
        "\n",
        "\n"
      ]
    },
    {
      "cell_type": "markdown",
      "metadata": {
        "id": "V2kTY8E9I4nZ"
      },
      "source": [
        "# Types of Problems in ML and AI\n",
        "\n",
        "•\tSupervised: Regression, Classification\n",
        "\n",
        "•\tUnsupervised\n",
        "\n",
        "•\tReinforcement Learning\n"
      ]
    },
    {
      "cell_type": "markdown",
      "metadata": {
        "id": "er25kFWhKFZ6"
      },
      "source": [
        "## Artificial Intelligence\n",
        "\n",
        "![picture] (https://drive.google.com/file/d/1TpQXNJ0Qv8yt50Yzt8PoVQUVm9-WcjFn/view?usp=sharing)"
      ]
    },
    {
      "cell_type": "markdown",
      "metadata": {
        "id": "Jnd142KDvvA3"
      },
      "source": [
        "# Today's Lecture\n",
        "\n",
        "1. Resources\n",
        "2. Linear Model\n",
        "3. Regression\n",
        "4. Classification\n",
        "5. Gradient Descent\n"
      ]
    },
    {
      "cell_type": "markdown",
      "metadata": {
        "id": "5YsBn3bZwmMb"
      },
      "source": [
        "# Resources for your Projects:\n",
        "\n",
        "•\tJupyter Notebooks\n",
        "\n",
        "•\tGoogle Colab: https://colab.research.google.com/\n",
        "\n",
        "•\tGitHub: Publish your Notebooks on your GitHub. You can directly publish Colab Notebooks on GitHub\n",
        "\n",
        "•\tShare the link to your project as your Homework Submission\n",
        "\n"
      ]
    },
    {
      "cell_type": "markdown",
      "metadata": {
        "id": "oB3XUFROw6PY"
      },
      "source": [
        "# ML Algorithms’ Grouping\n",
        "\n",
        "*Source for this section: https://machinelearningmastery.com/a-tour-of-machine-learning-algorithms*\n",
        "\n",
        "•\tThe first is a grouping of algorithms by their learning style.\n",
        "\n",
        "•\tThe second is a grouping of algorithms by their similarity in form or function (like grouping similar animals together).\n"
      ]
    },
    {
      "cell_type": "markdown",
      "metadata": {
        "id": "C0J7OwKOxT-g"
      },
      "source": [
        "#**Machine Learning Algorithms Grouped by Style**\n",
        "\n",
        "1. **Supervised Learning Algorithms** \n",
        "\n",
        "  Input data is called training data and has a known label or result such as spam/not-spam or a stock price at a time.\n",
        "\n",
        "  A model is prepared through a training process in which it is required to make predictions and is corrected when those predictions are wrong. The training process continues until the model achieves a desired level of accuracy on the training data.\n",
        "\n",
        "  Example problems are classification and regression.\n",
        "\n",
        "  Example algorithms include: Logistic Regression and the Back Propagation Neural Network."
      ]
    },
    {
      "cell_type": "markdown",
      "metadata": {
        "id": "BiA_AnwXIZoN"
      },
      "source": [
        "2. **Unsupervised Learning Algorithms**\n",
        "\n",
        "  Input data is not labeled and does not have a known result.\n",
        "\n",
        "  A model is prepared by deducing structures present in the input data. This may be to extract general rules. It may be through a mathematical process to systematically reduce redundancy, or it may be to organize data by similarity.\n",
        "\n",
        "  Example problems are clustering, dimensionality reduction and association rule learning.\n",
        "\n",
        "  Example algorithms include: the Apriori algorithm and K-Means."
      ]
    },
    {
      "cell_type": "markdown",
      "metadata": {
        "id": "rm4kgW62I5Kd"
      },
      "source": [
        "3. **Semi-Supervised Learning**\n",
        "\n",
        "  Input data is a mixture of labeled and unlabelled examples.\n",
        "\n",
        "  There is a desired prediction problem but the model must learn the structures to organize the data as well as make predictions.\n",
        "\n",
        "  Example problems are classification and regression.\n",
        "\n",
        "  Example algorithms are extensions to other flexible methods that make assumptions about how to model the unlabeled data."
      ]
    },
    {
      "cell_type": "markdown",
      "metadata": {
        "id": "Qg4b4QXNJPRa"
      },
      "source": [
        "# **Machine Learning Algorithms Grouped by Similarity**\n",
        "\n",
        "1. **Regression Algorithms**: The most popular regression algorithms are:\n",
        "\n",
        "  Ordinary Least Squares Regression (OLSR)\n",
        "\n",
        "  Linear Regression\n",
        "\n",
        "  Logistic Regression\n",
        "\n",
        "  Stepwise Regression\n",
        "\n",
        "2. **Instance-based Algorithms**\n",
        "    Instance-based learning model is a decision problem with instances or examples of training data that are deemed important or required to the model. The most popular instance-based algorithms are:\n",
        "\n",
        "  k-Nearest Neighbor (kNN)\n",
        "  Learning Vector Quantization (LVQ)\n",
        "  Self-Organizing Map (SOM)\n",
        "  Locally Weighted Learning (LWL)\n",
        "  Support Vector Machines (SVM)\n",
        "\n",
        "3. **Regularization Algorithms**\n",
        "\n",
        "  An extension made to another method (typically regression methods) that penalizes models based on their complexity, favoring simpler models that are also better at generalizing.\n",
        "  The most popular regularization algorithms are:\n",
        "\n",
        "  Ridge Regression\n",
        "\n",
        "  Least Absolute Shrinkage and Selection Operator (LASSO)\n",
        "\n",
        "  Elastic Net\n",
        "\n",
        "  Least-Angle Regression (LARS)\n",
        "\n",
        "4. **Decision Tree Algorithms**\n",
        "\n",
        "  Decision tree methods construct a model of decisions made based on actual values of attributes in the data.\n",
        "\n",
        "  The most popular decision tree algorithms are:\n",
        "\n",
        "  Classification and Regression Tree (CART)\n",
        "\n",
        "  Conditional Decision Trees\n",
        "\n",
        "5. **Clustering Algorithms**\n",
        "\n",
        "  Clustering methods are typically organized by the modeling approaches such as centroid-based and hierarchal.\n",
        "\n",
        "  The most popular clustering algorithms are:\n",
        "\n",
        "  k-Means\n",
        "\n",
        "  k-Medians\n",
        "\n",
        "  Expectation Maximisation (EM)\n",
        "  \n",
        "  Heirarchical Clustering\n",
        "\n",
        "\n",
        "6. **Artificial Neural Network Algorithms**\n",
        "\n",
        "  The most popular artificial neural network algorithms are:\n",
        "\n",
        "  Perceptron\n",
        "\n",
        "  Multilayer Perceptrons (MLP)\n",
        "\n",
        "  Back-Propagation\n",
        "\n",
        "  Stochastic Gradient Descent\n",
        "\n",
        "  Hopfield Network\n",
        "\n",
        "  Radial Basis Function Network (RBFN)\n",
        "\n",
        "7. **Deep Learning Algorithms**\n",
        "\n",
        "  Modern update to Artificial Neural Networks that exploit abundant cheap computation.\n",
        "  The most popular deep learning algorithms are:\n",
        "\n",
        "  Convolutional Neural Network (CNN)\n",
        "\n",
        "  Recurrent Neural Networks (RNNs)\n",
        "\n",
        "  Long Short-Term Memory Networks (LSTMs)\n",
        "\n",
        "  Stacked Auto-Encoders\n",
        "\n",
        "  Deep Boltzmann Machine (DBM)\n",
        "  \n",
        "  Deep Belief Networks (DBN)\n"
      ]
    }
  ]
}