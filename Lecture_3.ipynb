{
  "nbformat": 4,
  "nbformat_minor": 0,
  "metadata": {
    "colab": {
      "name": "Lecture 3.ipynb",
      "provenance": [],
      "collapsed_sections": [],
      "include_colab_link": true
    },
    "kernelspec": {
      "name": "python3",
      "display_name": "Python 3"
    },
    "language_info": {
      "name": "python"
    }
  },
  "cells": [
    {
      "cell_type": "markdown",
      "metadata": {
        "id": "view-in-github",
        "colab_type": "text"
      },
      "source": [
        "<a href=\"https://colab.research.google.com/github/Uzmamushtaque/CSCI4962-Projects-ML-AI/blob/main/Lecture_3.ipynb\" target=\"_parent\"><img src=\"https://colab.research.google.com/assets/colab-badge.svg\" alt=\"Open In Colab\"/></a>"
      ]
    },
    {
      "cell_type": "markdown",
      "metadata": {
        "id": "zBAErXc9dRyl"
      },
      "source": [
        "# Lecture 3\n",
        "\n",
        "## Today's Lecture\n",
        "\n",
        "1. Tree Based Methods\n",
        "2. Ensemble Learning"
      ]
    },
    {
      "cell_type": "markdown",
      "metadata": {
        "id": "mABZe5I0hUrC"
      },
      "source": [
        "# Introduction\n",
        "\n",
        "Tree-based methods for classification and regression were introduced from a\n",
        "statistical perspective by Breiman et al. (1984). Regression trees are used\n",
        "when the response variable is continuous, while classification trees are used for a categorical response.\n",
        "\n",
        "Decision Tree is a Supervised learning technique that can be used for both classification and Regression problems, but mostly it is preferred for solving Classification problems. It is a tree-structured classifier, where internal nodes represent the features of a dataset, branches represent the decision rules and each leaf node represents the outcome.\n",
        "\n",
        "**It is a graphical representation for getting all the possible solutions to a problem/decision based on given conditions.**\n",
        "\n",
        "[Picture](https://drive.google.com/file/d/1vvhNIqgeMfMzej7TTA4S9x4MFX-KBagg/view?usp=sharing)"
      ]
    },
    {
      "cell_type": "markdown",
      "metadata": {
        "id": "ACX3JDo7kNd5"
      },
      "source": [
        "# Classification and Regression Trees\n",
        "\n",
        "In order to build a tree, we use the CART algorithm, which stands for Classification and Regression Tree algorithm.\n",
        "A decision tree simply asks a question, and based on the answer (Yes/No), it further split the tree into subtrees.\n",
        "\n",
        "The decision tree algorithms is described below:\n",
        "\n",
        "Step 1: Begin the tree with the root node, containing the complete dataset.\n",
        "\n",
        "Step 2: Find the best attribute in the dataset using one of the **Attribute Selection Measure (ASM)**.\n",
        "\n",
        "Step 3: Divide the dataset into subsets that contains possible values for the best attributes.\n",
        "\n",
        "Step 4: Generate the decision tree node that has the best attribute.\n",
        "\n",
        "Step 5: Make new decision trees using the subsets of the dataset created in step -3. Continue this process until a stage is reached where you cannot further classify the nodes and called the final node as a leaf node."
      ]
    },
    {
      "cell_type": "markdown",
      "metadata": {
        "id": "6GFqScKSna0-"
      },
      "source": [
        "## How to split in tree based algorithm?\n",
        "\n",
        "While implementing a Decision tree, the primary decision is how to select the best attribute for the root node and for sub-nodes. So, to solve such problems there is a technique which is called as Attribute selection measure or ASM. By this measurement, we can easily select the best attribute for the nodes of the tree. There are two popular techniques for ASM, which are:\n",
        "\n",
        "1. Information Gain\n",
        "2. Gini Index"
      ]
    },
    {
      "cell_type": "markdown",
      "metadata": {
        "id": "NIJzZxtdoWne"
      },
      "source": [
        "# Information Gain\n",
        "\n",
        "In information theory we have a measure to define the degree of disorganization in a system known as Entropy. If the sample is completely homogeneous, then the entropy is zero and if the sample is an equally divided (50% – 50%), it has entropy of one.\n",
        "\n",
        "Entropy can be calculated using the formula :\n",
        "\n",
        "\n",
        "$Entropy(S)= -p log_2p -q log_2q$\n",
        "\n",
        "Here p and q are probability of success and failure respectively. We choose the split with the lowest Entropy as compared to the parent node.\n",
        "\n",
        "A decision tree algorithm always tries to maximize the value of information gain, and a node/attribute having the highest information gain is split first. It can be calculated using the below formula:\n",
        "\n",
        "$Information Gain= Entropy(S)- [(Weighted Avg) *Entropy(each feature) $"
      ]
    },
    {
      "cell_type": "markdown",
      "metadata": {
        "id": "ISsUuNfStBzQ"
      },
      "source": [
        "# Gini Index\n",
        "\n",
        "Gini index is a measure of impurity or purity used while creating a decision tree in the CART(Classification and Regression Tree) algorithm.\n",
        "An attribute with the low Gini index should be preferred as compared to the high Gini index.\n",
        "It only creates binary splits, and the CART algorithm uses the Gini index to create binary splits.\n",
        "Gini index can be calculated using the below formula:\n",
        "\n",
        "$Gini Index= ∑_jP_j(1-P_j)$\n",
        "\n",
        "Where $P_j$ are the proportion of training instances of class j in a particular prediction node. At each step we want that a node should have the gini index of zero, which means that each split outputs a single class 100% of the time. This is exactly what we want because then we know, once we get to that particular decision node, what exactly our output will be whether we are on one side of the decision boundary or the other.\n",
        "\n"
      ]
    },
    {
      "cell_type": "markdown",
      "metadata": {
        "id": "PzHmEMY9vUWc"
      },
      "source": [
        "# Pruning a Decision Tree\n",
        "\n",
        "Pruning is a process of deleting the unnecessary nodes from a tree in order to get the optimal decision tree.\n",
        "\n",
        "A very large tree increases the risk of overfitting, and a small tree may not capture all the important features of the dataset. Therefore, a technique that decreases the size of the learning tree without reducing accuracy is known as Pruning. There are mainly two types of tree pruning technology used:\n",
        "\n",
        "Cost Complexity Pruning\n",
        "\n",
        "Reduced Error Pruning.\n",
        "\n",
        "[More about pruning](https://en.wikipedia.org/wiki/Decision_tree_pruning)"
      ]
    },
    {
      "cell_type": "markdown",
      "metadata": {
        "id": "t_xiEMDJ3Ki1"
      },
      "source": [
        "# Advantages of Decision trees\n",
        "\n",
        "It is simple to understand as it follows the same process which a human follow while making any decision in real-life.\n",
        "\n",
        "It can be very useful for solving decision-related problems.\n",
        "\n",
        "It helps to think about all the possible outcomes for a problem.\n",
        "\n",
        "There is less requirement of data cleaning compared to other algorithms."
      ]
    },
    {
      "cell_type": "markdown",
      "metadata": {
        "id": "P2kFloMA36Vs"
      },
      "source": [
        "# Disadvantages of Decision trees\n",
        "\n",
        "It may have an **overfitting** issue, which can be resolved using the Random Forest algorithm.\n",
        "\n",
        "For more class labels, the computational complexity of the decision tree may increase."
      ]
    },
    {
      "cell_type": "markdown",
      "metadata": {
        "id": "b9RtzlnM0Xvg"
      },
      "source": [
        "# Example of a decision tree using Iris Dataset"
      ]
    },
    {
      "cell_type": "code",
      "metadata": {
        "id": "18oQHsAK0O8M"
      },
      "source": [
        "from sklearn.datasets import load_iris\n",
        "from sklearn import tree\n",
        "\n",
        "# Load in our dataset\n",
        "iris = load_iris()\n",
        "\n",
        "# Initialize our decision tree object\n",
        "classification_tree = tree.DecisionTreeClassifier()\n",
        "\n",
        "# Train our decision tree (tree induction + pruning)\n",
        "classification_tree = classification_tree.fit(iris.data, iris.target)\n"
      ],
      "execution_count": 5,
      "outputs": []
    },
    {
      "cell_type": "markdown",
      "metadata": {
        "id": "PCfxUOvQ04TA"
      },
      "source": [
        "# Parameters \n",
        "\n",
        "In Scikit Learn you can experiment with the following paramters and improve your results:\n",
        "\n",
        "1. **max_depth:** The max depth of the tree where we will stop splitting the nodes. Lower will make your model faster but not as accurate; higher can give you accuracy but risks overfitting and may be slow.\n",
        "\n",
        "2. **min_samples_split:** The minimum number of samples required to split a node. There exists a trade-off between smaller minimum count and a larger one. Try finding out how this helps combat overfitting.\n",
        "\n",
        "3. **max_features:** The number of features to consider when looking for the best split. Higher means potentially better results with the tradeoff of training taking longer.\n",
        "\n",
        "4. **min_impurity_split:** Threshold for early stopping in tree growth. A node will split if its impurity is above the threshold. This can be used to tradeoff combating overfitting (high value, small tree) vs high accuracy (low value, big tree).\n",
        "\n",
        "[Source 1](https://towardsdatascience.com/a-guide-to-decision-trees-for-machine-learning-and-data-science-fe2607241956)\n",
        "\n",
        "[Source 2](https://www.kdnuggets.com/2020/01/decision-tree-algorithm-explained.html)\n"
      ]
    },
    {
      "cell_type": "markdown",
      "metadata": {
        "id": "irduXlnk2nqA"
      },
      "source": [
        "# Ensemble Learning\n",
        "\n",
        "A single decision tree might suffer from high bias or high variance. As a result, we use something called Ensemble learning. In general, Ensemble models make predictions by combining more than one model, thereby making it more flexible(less bias) and less sensitive to data(less variance).\n",
        "\n",
        "Two most popular ensemble methods are bagging and boosting.\n",
        "\n",
        "1. Bagging: Training a number of individual models in a parallel way. Each model is trained by a random subset of the data\n",
        "2. Boosting: Training a number of individual models in a sequential way. Each individual model learns from mistakes made by the previous model."
      ]
    }
  ]
}