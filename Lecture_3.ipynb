{
  "nbformat": 4,
  "nbformat_minor": 0,
  "metadata": {
    "colab": {
      "name": "Lecture 3.ipynb",
      "provenance": [],
      "authorship_tag": "ABX9TyNbUcRFIWKi145tZAQH+0ZM",
      "include_colab_link": true
    },
    "kernelspec": {
      "name": "python3",
      "display_name": "Python 3"
    },
    "language_info": {
      "name": "python"
    }
  },
  "cells": [
    {
      "cell_type": "markdown",
      "metadata": {
        "id": "view-in-github",
        "colab_type": "text"
      },
      "source": [
        "<a href=\"https://colab.research.google.com/github/Uzmamushtaque/CSCI4962-Projects-ML-AI/blob/main/Lecture_3.ipynb\" target=\"_parent\"><img src=\"https://colab.research.google.com/assets/colab-badge.svg\" alt=\"Open In Colab\"/></a>"
      ]
    },
    {
      "cell_type": "markdown",
      "metadata": {
        "id": "zBAErXc9dRyl"
      },
      "source": [
        "# Lecture 3\n",
        "\n",
        "## Today's Lecture\n",
        "\n",
        "1. Tree Based Methods\n",
        "2. Ensemble Learning"
      ]
    },
    {
      "cell_type": "markdown",
      "metadata": {
        "id": "mABZe5I0hUrC"
      },
      "source": [
        "# Introduction\n",
        "\n",
        "Tree-based methods for classification and regression were introduced from a\n",
        "statistical perspective by Breiman et al. (1984). Regression trees are used\n",
        "when the response variable is continuous, while classification trees are used for a categorical response.\n",
        "\n",
        "Decision Tree is a Supervised learning technique that can be used for both classification and Regression problems, but mostly it is preferred for solving Classification problems. It is a tree-structured classifier, where internal nodes represent the features of a dataset, branches represent the decision rules and each leaf node represents the outcome.\n",
        "\n",
        "**It is a graphical representation for getting all the possible solutions to a problem/decision based on given conditions.**\n",
        "\n",
        "[Picture](https://drive.google.com/file/d/1vvhNIqgeMfMzej7TTA4S9x4MFX-KBagg/view?usp=sharing)"
      ]
    },
    {
      "cell_type": "markdown",
      "metadata": {
        "id": "ACX3JDo7kNd5"
      },
      "source": [
        "# Classification and Regression Trees\n",
        "\n",
        "In order to build a tree, we use the CART algorithm, which stands for Classification and Regression Tree algorithm.\n",
        "A decision tree simply asks a question, and based on the answer (Yes/No), it further split the tree into subtrees.\n",
        "\n",
        "The decision tree algorithms is described below:\n",
        "\n",
        "Step 1: Begin the tree with the root node, containing the complete dataset.\n",
        "\n",
        "Step 2: Find the best attribute in the dataset using one of the **Attribute Selection Measure (ASM)**.\n",
        "\n",
        "Step 3: Divide the dataset into subsets that contains possible values for the best attributes.\n",
        "\n",
        "Step 4: Generate the decision tree node that has the best attribute.\n",
        "\n",
        "Step 5: Make new decision trees using the subsets of the dataset created in step -3. Continue this process until a stage is reached where you cannot further classify the nodes and called the final node as a leaf node."
      ]
    },
    {
      "cell_type": "markdown",
      "metadata": {
        "id": "6GFqScKSna0-"
      },
      "source": [
        "## How to split in tree based algorithm?\n",
        "\n",
        "While implementing a Decision tree, the primary decision is how to select the best attribute for the root node and for sub-nodes. So, to solve such problems there is a technique which is called as Attribute selection measure or ASM. By this measurement, we can easily select the best attribute for the nodes of the tree. There are two popular techniques for ASM, which are:\n",
        "\n",
        "1. Information Gain\n",
        "2. Gini Index"
      ]
    },
    {
      "cell_type": "markdown",
      "metadata": {
        "id": "NIJzZxtdoWne"
      },
      "source": [
        "# Information Gain\n",
        "\n",
        "In information theory we have a measure to define the degree of disorganization in a system known as Entropy. If the sample is completely homogeneous, then the entropy is zero and if the sample is an equally divided (50% – 50%), it has entropy of one."
      ]
    }
  ]
}