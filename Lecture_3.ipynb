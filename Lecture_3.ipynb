{
  "nbformat": 4,
  "nbformat_minor": 0,
  "metadata": {
    "colab": {
      "provenance": [],
      "collapsed_sections": [],
      "include_colab_link": true
    },
    "kernelspec": {
      "name": "python3",
      "display_name": "Python 3"
    },
    "language_info": {
      "name": "python"
    }
  },
  "cells": [
    {
      "cell_type": "markdown",
      "metadata": {
        "id": "view-in-github",
        "colab_type": "text"
      },
      "source": [
        "<a href=\"https://colab.research.google.com/github/Uzmamushtaque/CSCI4962-Projects-ML-AI/blob/main/Lecture_3.ipynb\" target=\"_parent\"><img src=\"https://colab.research.google.com/assets/colab-badge.svg\" alt=\"Open In Colab\"/></a>"
      ]
    },
    {
      "cell_type": "markdown",
      "metadata": {
        "id": "zBAErXc9dRyl"
      },
      "source": [
        "# Lecture 3\n",
        "\n",
        "## Today's Lecture\n",
        "\n",
        "1. Tree Based Methods\n",
        "2. Ensemble Learning\n",
        "3. Cross validation, Bias-Variance Trade-off, Model Metrics, Imbalanced data\n",
        "\n",
        "References: \n",
        "1. machinelearningmastery.com\n",
        "2. [Wikipedia](https://en.wikipedia.org/wiki/Ensemble_learning)\n"
      ]
    },
    {
      "cell_type": "markdown",
      "metadata": {
        "id": "dALdhsD-ZYI-"
      },
      "source": [
        "# Motivating Example\n",
        "\n",
        "We use the Hitters data set to predict a baseball player’s Salary based on\n",
        "Years (the number of years that he has played in the major leagues) and\n",
        "Hits (the number of hits that he made in the previous year). We first remove\n",
        "observations that are missing Salary values, and log-transform Salary so\n",
        "that its distribution has more of a typical bell-shape. (Recall that Salary\n",
        "is measured in thousands of dollars.)\n",
        "\n",
        "[Statistical learning](https://web.stanford.edu/~hastie/ISLR2/ISLRv2_website.pdf)"
      ]
    },
    {
      "cell_type": "markdown",
      "metadata": {
        "id": "mABZe5I0hUrC"
      },
      "source": [
        "# Introduction\n",
        "\n",
        "Tree-based methods for classification and regression were introduced from a\n",
        "statistical perspective by Breiman et al. (1984). Regression trees are used\n",
        "when the response variable is continuous, while classification trees are used for a categorical response.\n",
        "\n",
        "Decision Tree is a Supervised learning technique that can be used for both classification and Regression problems, but mostly it is preferred for solving Classification problems. It is a tree-structured classifier, where internal nodes represent the features of a dataset, branches represent the decision rules and each leaf node represents the outcome.\n",
        "\n",
        "**It is a graphical representation for getting all the possible solutions to a problem/decision based on given conditions.**\n",
        "\n",
        "[Picture](https://drive.google.com/file/d/1vvhNIqgeMfMzej7TTA4S9x4MFX-KBagg/view?usp=sharing)"
      ]
    },
    {
      "cell_type": "markdown",
      "source": [
        "# Decision Trees\n",
        "\n",
        "1. Arrive at a Decision by asking a series of binary questions.\n",
        "2. Each question reduces the search space as much as possible.\n",
        "3. Goal is to find the smallest set of questions to arrive at the right decision."
      ],
      "metadata": {
        "id": "sI8wq2uTDMAe"
      }
    },
    {
      "cell_type": "markdown",
      "metadata": {
        "id": "ACX3JDo7kNd5"
      },
      "source": [
        "# Classification and Regression Trees\n",
        "\n",
        "In order to build a tree, we use the CART algorithm, which stands for Classification and Regression Tree algorithm.\n",
        "A decision tree simply asks a question, and based on the answer (Yes/No), it further split the tree into subtrees.\n",
        "\n",
        "The decision tree algorithms is described below:\n",
        "\n",
        "Step 1: Begin the tree with the root node, containing the complete dataset.\n",
        "\n",
        "Step 2: Find the best attribute in the dataset using one of the **Attribute Selection Measure (ASM)**.\n",
        "\n",
        "Step 3: Divide the dataset into subsets that contains possible values for the best attributes.\n",
        "\n",
        "Step 4: Generate the decision tree node that has the best attribute.\n",
        "\n",
        "Step 5: Make new decision trees using the subsets of the dataset created in step -3. Continue this process until a stage is reached where you cannot further classify the nodes and called the final node as a leaf node."
      ]
    },
    {
      "cell_type": "markdown",
      "metadata": {
        "id": "6GFqScKSna0-"
      },
      "source": [
        "## How to split in tree based algorithm?\n",
        "\n",
        "While implementing a Decision tree, the primary decision is how to select the best attribute for the root node and for sub-nodes. So, to solve such problems there is a technique which is called as Attribute selection measure or ASM. By this measurement, we can easily select the best attribute for the nodes of the tree. There are two popular techniques for ASM, which are:\n",
        "\n",
        "1. Information Gain\n",
        "2. Gini Index"
      ]
    },
    {
      "cell_type": "markdown",
      "metadata": {
        "id": "NIJzZxtdoWne"
      },
      "source": [
        "# Information Gain\n",
        "\n",
        "In information theory we have a measure to define the degree of disorganization in a system known as Entropy. If the sample is completely homogeneous, then the entropy is zero and if the sample is an equally divided (50% – 50%), it has entropy of one.\n",
        "\n",
        "Entropy can be calculated using the formula :\n",
        "\n",
        "\n",
        "$Entropy(S)= -p log_2p -q log_2q$\n",
        "\n",
        "Here p and q are probability of success and failure respectively. We choose the split with the lowest Entropy as compared to the parent node.\n",
        "\n",
        "A decision tree algorithm always tries to maximize the value of information gain, and a node/attribute having the highest information gain is split first. It can be calculated using the below formula:\n",
        "\n",
        "$Information Gain= Entropy(S)- [(Weighted Avg) *Entropy(each feature) $"
      ]
    },
    {
      "cell_type": "markdown",
      "metadata": {
        "id": "ISsUuNfStBzQ"
      },
      "source": [
        "# Gini Index\n",
        "\n",
        "Gini index is a measure of impurity or purity used while creating a decision tree in the CART(Classification and Regression Tree) algorithm.\n",
        "An attribute with the low Gini index should be preferred as compared to the high Gini index.\n",
        "It only creates binary splits, and the CART algorithm uses the Gini index to create binary splits.\n",
        "Gini index can be calculated using the below formula:\n",
        "\n",
        "$Gini Index= 1-∑_jP_j^2$\n",
        "\n",
        "Where $P_j$ are the proportion of training instances of class j in a particular prediction node. At each step we want that a node should have the gini index of zero, which means that each split outputs a single class 100% of the time. This is exactly what we want because then we know, once we get to that particular decision node, what exactly our output will be whether we are on one side of the decision boundary or the other.\n",
        "\n"
      ]
    },
    {
      "cell_type": "markdown",
      "source": [
        "# Regression trees\n",
        "\n",
        "We are predicting a continuous response by dividing the predictor space into non-overlapping regions. For any observation that falls within a region j we make the exact same prediction which is the mean-response for that region.\n",
        " Goal is to find a region that minimized RSS.\n",
        "\n",
        " [Link](https://medium.com/analytics-vidhya/regression-trees-decision-tree-for-regression-machine-learning-e4d7525d8047)"
      ],
      "metadata": {
        "id": "1_I7vHvhR0hB"
      }
    },
    {
      "cell_type": "markdown",
      "metadata": {
        "id": "PzHmEMY9vUWc"
      },
      "source": [
        "# Pruning a Decision Tree\n",
        "\n",
        "Pruning is a process of deleting the unnecessary nodes from a tree in order to get the optimal decision tree.\n",
        "\n",
        "A very large tree increases the risk of overfitting, and a small tree may not capture all the important features of the dataset. Therefore, a technique that decreases the size of the learning tree without reducing accuracy is known as Pruning. There are mainly two types of tree pruning technology used:\n",
        "\n",
        "Cost Complexity Pruning\n",
        "\n",
        "Reduced Error Pruning.\n",
        "\n",
        "[More about pruning](https://en.wikipedia.org/wiki/Decision_tree_pruning)"
      ]
    },
    {
      "cell_type": "markdown",
      "metadata": {
        "id": "t_xiEMDJ3Ki1"
      },
      "source": [
        "# Advantages of Decision trees\n",
        "\n",
        "It is simple to understand as it follows the same process which a human follow while making any decision in real-life.\n",
        "\n",
        "It can be very useful for solving decision-related problems.\n",
        "\n",
        "It helps to think about all the possible outcomes for a problem.\n",
        "\n",
        "There is less requirement of data cleaning compared to other algorithms."
      ]
    },
    {
      "cell_type": "markdown",
      "metadata": {
        "id": "P2kFloMA36Vs"
      },
      "source": [
        "# Disadvantages of Decision trees\n",
        "\n",
        "It may have an **overfitting** issue, which can be resolved using the Random Forest algorithm.\n",
        "\n",
        "For more class labels, the computational complexity of the decision tree may increase."
      ]
    },
    {
      "cell_type": "markdown",
      "metadata": {
        "id": "b9RtzlnM0Xvg"
      },
      "source": [
        "# Example of a decision tree using Iris Dataset"
      ]
    },
    {
      "cell_type": "code",
      "metadata": {
        "id": "18oQHsAK0O8M"
      },
      "source": [
        "from sklearn.datasets import load_iris\n",
        "from sklearn import tree\n",
        "\n",
        "# Load in our dataset\n",
        "iris = load_iris()\n",
        "\n",
        "# Initialize our decision tree object\n",
        "classification_tree = tree.DecisionTreeClassifier()\n",
        "\n",
        "# Train our decision tree (tree induction + pruning)\n",
        "classification_tree = classification_tree.fit(iris.data, iris.target)\n"
      ],
      "execution_count": null,
      "outputs": []
    },
    {
      "cell_type": "markdown",
      "metadata": {
        "id": "PCfxUOvQ04TA"
      },
      "source": [
        "# Parameters \n",
        "\n",
        "In Scikit Learn you can experiment with the following paramters and improve your results:\n",
        "\n",
        "1. **max_depth:** The max depth of the tree where we will stop splitting the nodes. Lower will make your model faster but not as accurate; higher can give you accuracy but risks overfitting and may be slow.\n",
        "\n",
        "2. **min_samples_split:** The minimum number of samples required to split a node. There exists a trade-off between smaller minimum count and a larger one. Try finding out how this helps combat overfitting.\n",
        "\n",
        "3. **max_features:** The number of features to consider when looking for the best split. Higher means potentially better results with the tradeoff of training taking longer.\n",
        "\n",
        "4. **min_impurity_split:** Threshold for early stopping in tree growth. A node will split if its impurity is above the threshold. This can be used to tradeoff combating overfitting (high value, small tree) vs high accuracy (low value, big tree).\n",
        "\n",
        "[Source 1](https://towardsdatascience.com/a-guide-to-decision-trees-for-machine-learning-and-data-science-fe2607241956)\n",
        "\n",
        "[Source 2](https://www.kdnuggets.com/2020/01/decision-tree-algorithm-explained.html)\n"
      ]
    },
    {
      "cell_type": "markdown",
      "metadata": {
        "id": "irduXlnk2nqA"
      },
      "source": [
        "# Ensemble Learning\n",
        "\n",
        "A single decision tree might suffer from high bias or high variance. As a result, we use something called Ensemble learning. In general, Ensemble models make predictions by combining more than one model, thereby making it more flexible(less bias) and less sensitive to data(less variance).\n",
        "\n",
        "Some of the most popular ensemble methods are bagging and boosting.\n",
        "\n",
        "1. Bagging (Bootstrap Aggregation): Training a number of individual models in a parallel way. Each model is trained by a random subset of the data\n",
        "2. Stacking: Stacking involves fitting many different models types on the same data and using another model to learn how to best combine the predictions.\n",
        "2. Boosting: Training a number of individual models in a sequential way. Each individual model learns from mistakes made by the previous model."
      ]
    },
    {
      "cell_type": "markdown",
      "metadata": {
        "id": "BBjalWAvLg38"
      },
      "source": [
        "# Bagging\n",
        "\n",
        "Bagging is an ensemble learning method that seeks a diverse group of weak learners by varying the training data. For a classification task this algorithm fits base classifiers each on random subsets of the original dataset and then aggregate their individual predictions (either by voting or by averaging) to form a final prediction. \n",
        "\n",
        "Key to the method is the manner in which each sample of the dataset is prepared to train ensemble members. Each model gets its own unique sample of the dataset.\n",
        "\n",
        "Examples (rows) are drawn from the dataset at random, although with replacement. This means if an observation is selected once by one of the learners (usually a decision tree) it is returned to the dataset for potential re-selection. Therefore the same observation may be selected more than once or never. This is termed as **bootstrap sample**.\n",
        "\n",
        "**Bootstrapping** is a well-kown statistical technique used with smaller datasets. If a statistical estimate of a quantity is required, it can be done by creating bootstrap samples, estimate the quantity and compute the mean of the estimates. This gives a better overall estimate.\n",
        "\n",
        "Similarly, multiple training datasets can be prepared, used to estimate a predictive model, and make predictions. Averaging the predictions across the models typically results in better predictions than a single model fit on the training dataset directly. The final result/prediction is either the average of all results or the majority vote(classification problem).\n",
        "\n",
        "This is a general approach and easily extended. For example, more changes to the training dataset can be introduced, the algorithm fit on the training data can be replaced, and the mechanism used to combine predictions can be modified.\n",
        "\n",
        "Many popular ensemble algorithms are based on this approach, including:\n",
        "\n",
        "Bagged Decision Trees\n",
        "\n",
        "[Random Forest](https://machinelearningmastery.com/random-forest-ensemble-in-python/)\n"
      ]
    },
    {
      "cell_type": "code",
      "metadata": {
        "colab": {
          "base_uri": "https://localhost:8080/"
        },
        "id": "cKPekoUNXAN9",
        "outputId": "af390b7d-3f30-47f2-ede8-ad6118268ee8"
      },
      "source": [
        "# test classification dataset\n",
        "from sklearn.datasets import make_classification\n",
        "# define dataset\n",
        "X, y = make_classification(n_samples=1000, n_features=20, n_informative=15, n_redundant=5, random_state=5)\n",
        "# summarize the dataset\n",
        "print(X.shape, y.shape)"
      ],
      "execution_count": null,
      "outputs": [
        {
          "output_type": "stream",
          "name": "stdout",
          "text": [
            "(1000, 20) (1000,)\n"
          ]
        }
      ]
    },
    {
      "cell_type": "code",
      "metadata": {
        "colab": {
          "base_uri": "https://localhost:8080/"
        },
        "id": "7imdE5-tY-0i",
        "outputId": "1b08fd08-0ef0-4c20-8633-6d56abe92535"
      },
      "source": [
        "from numpy import mean\n",
        "from numpy import std\n",
        "from sklearn.datasets import make_classification\n",
        "from sklearn.model_selection import cross_val_score\n",
        "from sklearn.model_selection import RepeatedStratifiedKFold\n",
        "from sklearn.ensemble import BaggingClassifier\n",
        "# define dataset\n",
        "X, y = make_classification(n_samples=1000, n_features=20, n_informative=15, n_redundant=5, random_state=5)\n",
        "# define the model\n",
        "model = BaggingClassifier(n_estimators=50)\n",
        "# evaluate the model\n",
        "cv = RepeatedStratifiedKFold(n_splits=10, n_repeats=3, random_state=1)\n",
        "n_scores = cross_val_score(model, X, y, scoring='accuracy', cv=cv, n_jobs=-1, error_score='raise')\n",
        "# report performance\n",
        "print('Accuracy: %.3f (%.3f)' % (mean(n_scores), std(n_scores)))\n",
        "# fit the model on the whole dataset\n",
        "model.fit(X, y)\n",
        "# make a single prediction\n",
        "row = [[-4.7705504,-1.88685058,-0.96057964,2.53850317,-6.5843005,3.45711663,-7.46225013,2.01338213,-0.45086384,-1.89314931,-2.90675203,-0.21214568,-0.9623956,3.93862591,0.06276375,0.33964269,4.0835676,1.31423977,-2.17983117,3.1047287]]\n",
        "yhat = model.predict(row)\n",
        "print('Predicted Class: %d' % yhat[0])"
      ],
      "execution_count": null,
      "outputs": [
        {
          "output_type": "stream",
          "name": "stdout",
          "text": [
            "Accuracy: 0.876 (0.037)\n",
            "Predicted Class: 1\n"
          ]
        }
      ]
    },
    {
      "cell_type": "markdown",
      "metadata": {
        "id": "1s0O9RLTLs7K"
      },
      "source": [
        "# Stacking\n",
        "\n",
        "Stacking, is an ensemble method that seeks a diverse group of learners by varying the model types fit on the training data and using a model to combine predictions.\n",
        "\n",
        "Any machine learning model can be used to aggregate the predictions, although it is common to use a linear model, such as linear regression for regression and logistic regression for binary classification. This encourages the complexity of the model to reside at the lower-level ensemble member models and simple models to learn how to harness the variety of predictions made.\n",
        "\n",
        "Stacking typically yields performance better than any single one of the trained models.\n",
        "\n",
        "The architecture of a stacking model involves two or more base models, often referred to as level-0 models, and a meta-model that combines the predictions of the base models, referred to as a level-1 model.\n",
        "\n",
        "Level-0 Models (Base-Models): Models fit on the training data and whose predictions are compiled.\n",
        "\n",
        "Level-1 Model (Meta-Model): Model that learns how to best combine the predictions of the base models.\n",
        "\n",
        "The meta-model is trained on the predictions made by base models on out-of-sample data. That is, data not used to train the base models is fed to the base models, predictions are made, and these predictions, along with the expected outputs, provide the input and output pairs of the training dataset used to fit the meta-model.\n",
        "\n",
        "Example:"
      ]
    },
    {
      "cell_type": "code",
      "metadata": {
        "id": "JHBOKPa0sshW"
      },
      "source": [
        "import sklearn\n",
        "models = [('lr',LogisticRegression()),('svm',SVC())\n",
        "stacking = StackingClassifier(estimators=models)\n",
        "# Can also use a pipeline if data pre-processing required\n",
        "#models = [('lr',LogisticRegression()),('svm',make_pipeline(StandardScaler(),SVC()))"
      ],
      "execution_count": null,
      "outputs": []
    },
    {
      "cell_type": "markdown",
      "metadata": {
        "id": "sYSBgf9VND_4"
      },
      "source": [
        "The level-1 model or meta-model is provided via the “final_estimator” argument. By default, this is set to LinearRegression for regression and LogisticRegression for classification, and these are sensible defaults that you probably do not want to change.\n",
        "\n",
        "The dataset for the meta-model is prepared using cross-validation. By default, 5-fold cross-validation is used, although this can be changed via the “cv” argument and set to either a number (e.g. 10 for 10-fold cross-validation) or a cross-validation object (e.g. StratifiedKFold).\n",
        "\n",
        "Sometimes, better performance can be achieved if the dataset prepared for the meta-model also includes inputs to the level-0 models, e.g. the input training data. This can be achieved by setting the “passthrough” argument to True and is not enabled by default."
      ]
    },
    {
      "cell_type": "markdown",
      "metadata": {
        "id": "hbQYmDQ6ChSC"
      },
      "source": [
        "# Boosting\n",
        "\n",
        "In machine learning, boosting is an ensemble meta-algorithm for primarily reducing bias, and also variance in supervised learning. This is a family of machine learning algorithms that convert weak learners to strong ones.\n",
        "\n",
        "Boosting involves adding multiple weak learners in an adaptive way. It is a generic algorithm rather than a specific model. Boosting needs you to specify a weak model (e.g. regression, shallow decision trees, etc) and then improves it.Two of the popular boosting algorithms are AdaBoost and Gradient Boost.\n",
        "\n",
        "[Must Read Article](https://towardsdatascience.com/boosting-algorithms-explained-d38f56ef3f30)"
      ]
    },
    {
      "cell_type": "markdown",
      "metadata": {
        "id": "H-j6NCq0FJ5Y"
      },
      "source": [
        "Example"
      ]
    },
    {
      "cell_type": "code",
      "metadata": {
        "colab": {
          "base_uri": "https://localhost:8080/"
        },
        "id": "gHeOGvq0GR1t",
        "outputId": "1f513b64-7c98-4d9d-d241-9481ac34c4ad"
      },
      "source": [
        "from sklearn.ensemble import AdaBoostClassifier\n",
        "from sklearn.datasets import make_classification\n",
        "X,Y = make_classification(n_samples=100, n_features=2, n_informative=2,\n",
        "                          n_redundant=0, n_repeated=0, random_state=102)\n",
        "clf = AdaBoostClassifier(n_estimators=4, random_state=0, algorithm='SAMME')\n",
        "clf.fit(X, Y)  "
      ],
      "execution_count": null,
      "outputs": [
        {
          "output_type": "execute_result",
          "data": {
            "text/plain": [
              "AdaBoostClassifier(algorithm='SAMME', base_estimator=None, learning_rate=1.0,\n",
              "                   n_estimators=4, random_state=0)"
            ]
          },
          "metadata": {},
          "execution_count": 1
        }
      ]
    },
    {
      "cell_type": "markdown",
      "source": [
        "XGBoost is an optimized version of gradient boosting algorithm.\n",
        "\n",
        "Regularization: XGBoost has an option to penalize complex models through both L1 and L2 regularization. Regularization helps in preventing overfitting\n",
        "\n",
        "Handling sparse data: Missing values or data processing steps like one-hot encoding make data sparse. XGBoost incorporates a sparsity-aware split finding algorithm to handle different types of sparsity patterns in the data.\n",
        "\n",
        "Block structure for parallel learning: For faster computing, XGBoost can make use of multiple cores on the CPU. This is possible because of a block structure in its system design. Data is sorted and stored in in-memory units called blocks. Unlike other algorithms, this enables the data layout to be reused by subsequent iterations, instead of computing it again. This feature also serves useful for steps like split finding and column sub-sampling.\n",
        "\n",
        "\n",
        "[Deatils](https://en.wikipedia.org/wiki/XGBoost)\n",
        "\n",
        "[Implementation](https://xgboost.readthedocs.io/en/stable/)"
      ],
      "metadata": {
        "id": "dhCN913vUTgY"
      }
    },
    {
      "cell_type": "markdown",
      "metadata": {
        "id": "dWG9Wbz3Ag2G"
      },
      "source": [
        "# Readings\n",
        "\n",
        "[Paper 1](https://www.researchgate.net/profile/Fadel-Megahed-2/publication/325786183_Predicting_Short-Term_Stock_Prices_using_Ensemble_Methods_and_Online_Data_Sources/links/5c59fea292851c48a9bd6526/Predicting-Short-Term-Stock-Prices-using-Ensemble-Methods-and-Online-Data-Sources.pdf)\n",
        "\n",
        "[Paper 2](https://ieeexplore.ieee.org/stamp/stamp.jsp?arnumber=8673583)"
      ]
    },
    {
      "cell_type": "markdown",
      "metadata": {
        "id": "OONQUl4FNDWp"
      },
      "source": [
        "# Important Considerations in a ML Project\n",
        "\n",
        "Cross-Validation:\n",
        "[Must Read](https://towardsdatascience.com/cross-validation-in-machine-learning-72924a69872f)\n",
        "\n",
        "Bias-Variance Tradeoff:\n",
        "[Article](https://towardsdatascience.com/understanding-the-bias-variance-tradeoff-165e6942b229)\n",
        "\n",
        "Metrics:\n",
        "[Article](https://medium.com/@MohammedS/performance-metrics-for-classification-problems-in-machine-learning-part-i-b085d432082b)"
      ]
    }
  ]
}