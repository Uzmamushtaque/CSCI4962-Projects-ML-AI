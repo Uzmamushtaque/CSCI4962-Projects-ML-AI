{
  "nbformat": 4,
  "nbformat_minor": 0,
  "metadata": {
    "colab": {
      "name": "Lecture 17.ipynb",
      "provenance": [],
      "collapsed_sections": [],
      "authorship_tag": "ABX9TyNQnLyVVCr9xgL0UAZfQblT",
      "include_colab_link": true
    },
    "kernelspec": {
      "name": "python3",
      "display_name": "Python 3"
    },
    "language_info": {
      "name": "python"
    }
  },
  "cells": [
    {
      "cell_type": "markdown",
      "metadata": {
        "id": "view-in-github",
        "colab_type": "text"
      },
      "source": [
        "<a href=\"https://colab.research.google.com/github/Uzmamushtaque/CSCI4962-Projects-ML-AI/blob/main/Lecture_17.ipynb\" target=\"_parent\"><img src=\"https://colab.research.google.com/assets/colab-badge.svg\" alt=\"Open In Colab\"/></a>"
      ]
    },
    {
      "cell_type": "markdown",
      "metadata": {
        "id": "zikrORgoVTJ-"
      },
      "source": [
        "# Lecture 17\n",
        "\n",
        "# Topics for Today\n",
        "\n",
        "1. Bellman Expectation Equation\n",
        "2. Optimal Policy\n",
        "3. Bellman Optimality Equation for State-Value Function\n",
        "4. Bellman Optimality Equation for State-action value Function\n",
        "5. MDP using Dynamic programming"
      ]
    },
    {
      "cell_type": "markdown",
      "metadata": {
        "id": "UjYCfodQWhgJ"
      },
      "source": [
        "# References:\n",
        "\n",
        "[Source](https://web.stanford.edu/class/psych209/Readings/SuttonBartoIPRLBook2ndEd.pdf)\n",
        "\n",
        "[Article 1](https://towardsdatascience.com/reinforcement-learning-markov-decision-process-part-2-96837c936ec3)\n",
        "\n",
        "[Article 2](https://towardsdatascience.com/reinforcement-learning-solving-mdps-using-dynamic-programming-part-3-b53d32341540)"
      ]
    }
  ]
}