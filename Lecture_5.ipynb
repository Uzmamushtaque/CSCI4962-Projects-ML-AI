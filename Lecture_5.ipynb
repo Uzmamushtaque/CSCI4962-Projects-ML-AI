{
  "nbformat": 4,
  "nbformat_minor": 0,
  "metadata": {
    "colab": {
      "name": "Lecture 5.ipynb",
      "provenance": [],
      "collapsed_sections": [],
      "authorship_tag": "ABX9TyNYMB2o3cDZsXrUlkan2LA0",
      "include_colab_link": true
    },
    "kernelspec": {
      "name": "python3",
      "display_name": "Python 3"
    },
    "language_info": {
      "name": "python"
    }
  },
  "cells": [
    {
      "cell_type": "markdown",
      "metadata": {
        "id": "view-in-github",
        "colab_type": "text"
      },
      "source": [
        "<a href=\"https://colab.research.google.com/github/Uzmamushtaque/CSCI4962-Projects-ML-AI/blob/main/Lecture_5.ipynb\" target=\"_parent\"><img src=\"https://colab.research.google.com/assets/colab-badge.svg\" alt=\"Open In Colab\"/></a>"
      ]
    },
    {
      "cell_type": "markdown",
      "metadata": {
        "id": "E1AYFgLnoDO3"
      },
      "source": [
        "# Lecture 5\n",
        "\n",
        "# Today's Lecture\n",
        "\n",
        "Practical Issues in Neural Network Training:\n",
        "\n",
        "1. Train/Test/Dev sets\n",
        "2. Hyper-parameters\n",
        "3. Problem of Overfitting\n",
        "4. Regularization\n"
      ]
    },
    {
      "cell_type": "markdown",
      "metadata": {
        "id": "q5GO_aWN3tTW"
      },
      "source": [
        "# General\n",
        "\n",
        "Applied machine learning is a highly iterative process. Implementing a simple Neural Network involves numerous configuration steps. Additionally there are multiple input paramters that need to be tuned/initialized. Some of these are (not exhaustive list):\n",
        "1. Number of layers\n",
        "2. Number of Nodes\n",
        "3. Learning Rates\n",
        "4. Activation functions\n",
        "5. Initialization\n",
        "6. Data: Collection and Usage"
      ]
    },
    {
      "cell_type": "markdown",
      "metadata": {
        "id": "4t3zlWTQ5mg8"
      },
      "source": [
        "# Data Considerations\n",
        "\n"
      ]
    }
  ]
}