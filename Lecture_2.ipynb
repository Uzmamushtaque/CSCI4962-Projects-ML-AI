{
  "nbformat": 4,
  "nbformat_minor": 0,
  "metadata": {
    "colab": {
      "name": "Lecture 2.ipynb",
      "provenance": [],
      "authorship_tag": "ABX9TyNrF3dkXwQAnFWdSg8+YvZQ",
      "include_colab_link": true
    },
    "kernelspec": {
      "name": "python3",
      "display_name": "Python 3"
    },
    "language_info": {
      "name": "python"
    }
  },
  "cells": [
    {
      "cell_type": "markdown",
      "metadata": {
        "id": "view-in-github",
        "colab_type": "text"
      },
      "source": [
        "<a href=\"https://colab.research.google.com/github/Uzmamushtaque/CSCI4962-Projects-ML-AI/blob/main/Lecture_2.ipynb\" target=\"_parent\"><img src=\"https://colab.research.google.com/assets/colab-badge.svg\" alt=\"Open In Colab\"/></a>"
      ]
    },
    {
      "cell_type": "markdown",
      "metadata": {
        "id": "GLIX4bhBZnGL"
      },
      "source": [
        "# Lecture 2\n",
        "\n",
        "## Today's Lecture\n",
        "\n",
        "1. Data manipulation and Pre-processing (Tensorflow)\n",
        "2. Vectorization\n",
        "3. Broadcasting\n",
        "4. Python numpy and pandas\n",
        "5. Linear Regression\n",
        "6. About Homework 1"
      ]
    },
    {
      "cell_type": "markdown",
      "metadata": {
        "id": "5SBNbnAVOOx4"
      },
      "source": [
        "# Data manipulation\n",
        "\n",
        "Generally, there are two important things we need to do with data: \n",
        "(i) acquire them; and (ii) process them once they are inside the computer. \n",
        "\n",
        "[TensorFlow](https://www.tensorflow.org/) is an open-source end-to-end machine learning library for preprocessing data, modelling data and serving models (getting them into the hands of others).\n",
        "\n",
        "## Introduction to Tensors\n",
        "\n",
        "If you've ever used [NumPy](https://numpy.org/), tensors are kind of like NumPy arrays.\n",
        "\n",
        "You can consider of a tensor as a multi-dimensional numerical representation (also referred to as n-dimensional, where n can be any number) of something. Where something can be almost anything you can imagine:\n",
        "\n",
        "1. It could be numbers themselves (using tensors to represent the price of houses).\n",
        "2. It could be an image (using tensors to represent the pixels of an image).\n",
        "3. It could be text (using tensors to represent words).\n",
        "\n",
        "Or it could be some other form of information (or data) you want to represent with numbers.\n",
        "\n",
        "The main difference between tensors and NumPy arrays (also an n-dimensional array of numbers) is that tensors can be used on GPUs (graphical processing units) and TPUs (tensor processing units).\n",
        "\n",
        "The benefit of being able to run on GPUs and TPUs is faster computation, this means, if we wanted to find patterns in the numerical representations of our data, we can generally find them faster using GPUs and TPUs."
      ]
    },
    {
      "cell_type": "markdown",
      "metadata": {
        "id": "vJ_0QkUPRYL-"
      },
      "source": [
        "Let us get started with Tensors.\n",
        "The first thing we'll do is import TensorFlow under the common alias tf."
      ]
    },
    {
      "cell_type": "code",
      "metadata": {
        "colab": {
          "base_uri": "https://localhost:8080/"
        },
        "id": "bD4s6g3CT4oO",
        "outputId": "1c067907-3948-40eb-b851-ca65288d8ed4"
      },
      "source": [
        "# Import TensorFlow\n",
        "import tensorflow as tf\n",
        "print(tf.__version__) # find the version number (should be 2.x+)"
      ],
      "execution_count": 1,
      "outputs": [
        {
          "output_type": "stream",
          "name": "stdout",
          "text": [
            "2.6.0\n"
          ]
        }
      ]
    },
    {
      "cell_type": "markdown",
      "metadata": {
        "id": "FlTSivROVw8J"
      },
      "source": [
        "A tensor represents a (possibly multi-dimensional) array of numerical values. With one axis, a tensor corresponds (in math) to a vector. With two axes, a tensor corresponds to a matrix. Let us create one tensor and then update its shape:"
      ]
    },
    {
      "cell_type": "code",
      "metadata": {
        "colab": {
          "base_uri": "https://localhost:8080/"
        },
        "id": "yK9HgYwsWE4n",
        "outputId": "7ca016c4-b987-494a-9578-8fc1d4dd2601"
      },
      "source": [
        "x = tf.range(12)\n",
        "x"
      ],
      "execution_count": 2,
      "outputs": [
        {
          "output_type": "execute_result",
          "data": {
            "text/plain": [
              "<tf.Tensor: shape=(12,), dtype=int32, numpy=array([ 0,  1,  2,  3,  4,  5,  6,  7,  8,  9, 10, 11], dtype=int32)>"
            ]
          },
          "metadata": {},
          "execution_count": 2
        }
      ]
    },
    {
      "cell_type": "markdown",
      "metadata": {
        "id": "EiaF8sDqWMgr"
      },
      "source": [
        "We can access a tensor’s shape (the length along each axis) by inspecting its shape property."
      ]
    },
    {
      "cell_type": "code",
      "metadata": {
        "colab": {
          "base_uri": "https://localhost:8080/"
        },
        "id": "pZffiwfsWNo6",
        "outputId": "228e0ec6-5327-40e1-bb76-4de5abd372bd"
      },
      "source": [
        "x.shape"
      ],
      "execution_count": 3,
      "outputs": [
        {
          "output_type": "execute_result",
          "data": {
            "text/plain": [
              "TensorShape([12])"
            ]
          },
          "metadata": {},
          "execution_count": 3
        }
      ]
    },
    {
      "cell_type": "markdown",
      "metadata": {
        "id": "KW_hzUJXWW2_"
      },
      "source": [
        "If we just want to know the total number of elements in a tensor, i.e., the product of all of the shape elements, we can inspect its size. "
      ]
    },
    {
      "cell_type": "code",
      "metadata": {
        "colab": {
          "base_uri": "https://localhost:8080/"
        },
        "id": "K68icXaPWXn1",
        "outputId": "5c84263a-a11a-4f41-f55c-a0e7a8fef5a0"
      },
      "source": [
        "tf.size(x)"
      ],
      "execution_count": 4,
      "outputs": [
        {
          "output_type": "execute_result",
          "data": {
            "text/plain": [
              "<tf.Tensor: shape=(), dtype=int32, numpy=12>"
            ]
          },
          "metadata": {},
          "execution_count": 4
        }
      ]
    },
    {
      "cell_type": "markdown",
      "metadata": {
        "id": "C7VBKpuaWew1"
      },
      "source": [
        "To change the shape of a tensor without altering either the number of elements or their values, we can invoke the reshape function."
      ]
    },
    {
      "cell_type": "code",
      "metadata": {
        "colab": {
          "base_uri": "https://localhost:8080/"
        },
        "id": "jbOHkGsOWfi-",
        "outputId": "1ce4f376-9a03-4f01-9299-57908ace62f1"
      },
      "source": [
        "X = tf.reshape(x, (3, 4))\n",
        "X"
      ],
      "execution_count": 5,
      "outputs": [
        {
          "output_type": "execute_result",
          "data": {
            "text/plain": [
              "<tf.Tensor: shape=(3, 4), dtype=int32, numpy=\n",
              "array([[ 0,  1,  2,  3],\n",
              "       [ 4,  5,  6,  7],\n",
              "       [ 8,  9, 10, 11]], dtype=int32)>"
            ]
          },
          "metadata": {},
          "execution_count": 5
        }
      ]
    },
    {
      "cell_type": "markdown",
      "metadata": {
        "id": "lBNAVttPXAlo"
      },
      "source": [
        "Reshaping by manually specifying every dimension is unnecessary. If our target shape is a matrix with shape (height, width), then after we know the width, the height is given implicitly. Try calling x.reshape(-1, 4) or x.reshape(3, -1) for x above. Why do you think you get the result you are getting?"
      ]
    },
    {
      "cell_type": "markdown",
      "metadata": {
        "id": "5Re4OXkpXM5q"
      },
      "source": [
        "Typically, we will want our matrices initialized either with zeros, ones, some other constants, or numbers randomly sampled from a specific distribution. We can create a tensor representing a tensor with all elements set to 0 and a shape of (2, 3, 4) as follows:"
      ]
    },
    {
      "cell_type": "code",
      "metadata": {
        "colab": {
          "base_uri": "https://localhost:8080/"
        },
        "id": "s5zOuvgRYANC",
        "outputId": "03db1fab-7f37-4944-d08d-c878fe59f238"
      },
      "source": [
        "tf.zeros((2, 3, 4))\n",
        "tf.ones((3,3,4))"
      ],
      "execution_count": 7,
      "outputs": [
        {
          "output_type": "execute_result",
          "data": {
            "text/plain": [
              "<tf.Tensor: shape=(3, 3, 4), dtype=float32, numpy=\n",
              "array([[[1., 1., 1., 1.],\n",
              "        [1., 1., 1., 1.],\n",
              "        [1., 1., 1., 1.]],\n",
              "\n",
              "       [[1., 1., 1., 1.],\n",
              "        [1., 1., 1., 1.],\n",
              "        [1., 1., 1., 1.]],\n",
              "\n",
              "       [[1., 1., 1., 1.],\n",
              "        [1., 1., 1., 1.],\n",
              "        [1., 1., 1., 1.]]], dtype=float32)>"
            ]
          },
          "metadata": {},
          "execution_count": 7
        }
      ]
    },
    {
      "cell_type": "markdown",
      "metadata": {
        "id": "-xtOlT7DYYeP"
      },
      "source": [
        "The following snippet creates a tensor with shape (3, 4). Each of its elements is randomly sampled from a standard Gaussian (normal) distribution with a mean of 0 and a standard deviation of 1."
      ]
    },
    {
      "cell_type": "code",
      "metadata": {
        "colab": {
          "base_uri": "https://localhost:8080/"
        },
        "id": "noTwc-3UYZXF",
        "outputId": "72a431af-09f5-4e7d-9f32-8121e5aa6c30"
      },
      "source": [
        "tf.random.normal(shape=[3, 4])"
      ],
      "execution_count": 8,
      "outputs": [
        {
          "output_type": "execute_result",
          "data": {
            "text/plain": [
              "<tf.Tensor: shape=(3, 4), dtype=float32, numpy=\n",
              "array([[-1.769822  ,  0.5473651 , -1.2090687 ,  0.24317421],\n",
              "       [-0.6128867 ,  0.70870316,  0.06551764,  0.87915313],\n",
              "       [ 0.8630595 , -1.271956  ,  0.02810226, -1.2665564 ]],\n",
              "      dtype=float32)>"
            ]
          },
          "metadata": {},
          "execution_count": 8
        }
      ]
    },
    {
      "cell_type": "code",
      "metadata": {
        "colab": {
          "base_uri": "https://localhost:8080/"
        },
        "id": "TxprfUGBY8d-",
        "outputId": "d2257581-c4f0-40ec-a2ec-c244a673e655"
      },
      "source": [
        "# An exact input for a tensor- Python List\n",
        "tf.constant([[2, 1, 4, 3], [1, 2, 3, 4], [4, 3, 2, 1]])"
      ],
      "execution_count": 9,
      "outputs": [
        {
          "output_type": "execute_result",
          "data": {
            "text/plain": [
              "<tf.Tensor: shape=(3, 4), dtype=int32, numpy=\n",
              "array([[2, 1, 4, 3],\n",
              "       [1, 2, 3, 4],\n",
              "       [4, 3, 2, 1]], dtype=int32)>"
            ]
          },
          "metadata": {},
          "execution_count": 9
        }
      ]
    }
  ]
}