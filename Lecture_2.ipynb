{
  "nbformat": 4,
  "nbformat_minor": 0,
  "metadata": {
    "colab": {
      "name": "Lecture 2.ipynb",
      "provenance": [],
      "authorship_tag": "ABX9TyOdRtGkfWJIM3FXu86+6Gjq",
      "include_colab_link": true
    },
    "kernelspec": {
      "name": "python3",
      "display_name": "Python 3"
    },
    "language_info": {
      "name": "python"
    }
  },
  "cells": [
    {
      "cell_type": "markdown",
      "metadata": {
        "id": "view-in-github",
        "colab_type": "text"
      },
      "source": [
        "<a href=\"https://colab.research.google.com/github/Uzmamushtaque/CSCI4962-Projects-ML-AI/blob/main/Lecture_2.ipynb\" target=\"_parent\"><img src=\"https://colab.research.google.com/assets/colab-badge.svg\" alt=\"Open In Colab\"/></a>"
      ]
    },
    {
      "cell_type": "markdown",
      "metadata": {
        "id": "GLIX4bhBZnGL"
      },
      "source": [
        "# Lecture 2\n",
        "\n",
        "## Today's Lecture\n",
        "\n",
        "1. Vectorization\n",
        "2. Python numpy and pandas\n",
        "3. Linear Regression\n",
        "4. Tensorflow"
      ]
    }
  ]
}