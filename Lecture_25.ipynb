{
  "nbformat": 4,
  "nbformat_minor": 0,
  "metadata": {
    "colab": {
      "name": "Lecture 25.ipynb",
      "provenance": [],
      "collapsed_sections": [],
      "authorship_tag": "ABX9TyOpr8RCNweMhpkcDDzuHNra",
      "include_colab_link": true
    },
    "kernelspec": {
      "name": "python3",
      "display_name": "Python 3"
    },
    "language_info": {
      "name": "python"
    }
  },
  "cells": [
    {
      "cell_type": "markdown",
      "metadata": {
        "id": "view-in-github",
        "colab_type": "text"
      },
      "source": [
        "<a href=\"https://colab.research.google.com/github/Uzmamushtaque/CSCI4962-Projects-ML-AI/blob/main/Lecture_25.ipynb\" target=\"_parent\"><img src=\"https://colab.research.google.com/assets/colab-badge.svg\" alt=\"Open In Colab\"/></a>"
      ]
    },
    {
      "cell_type": "markdown",
      "metadata": {
        "id": "WdDgL2vLjy-d"
      },
      "source": [
        "# Lecture 25\n",
        "\n",
        "## Topics for Today\n",
        "\n",
        "1. Top AI and ML Research trends in the following fields:  \n",
        "\n",
        "  a. Natural Language Processing\n",
        "\n",
        "  b. Coversational AI\n",
        "\n",
        "  c. Computer Vision\n",
        "\n",
        "  d. Reinforcement Learning\n",
        "\n",
        "  e. Recommender Systems and Information Retrieval Systems\n",
        "\n",
        "2. Automated Machine Learning (AutoML)\n",
        "\n",
        "\n",
        "\n"
      ]
    },
    {
      "cell_type": "markdown",
      "metadata": {
        "id": "-1TdTw2ilVCa"
      },
      "source": [
        "# Natural Language Processing\n",
        "\n",
        "Pretrained language Models have dominated NLP research over the last couple of years. These models have pushed the limits of natural language understanding and generation. \n",
        "Teams from top research institutions and tech companies are exploring ways to make state-of-the-art language models even more sophisticated.\n",
        "\n",
        "**Trending topics**\n",
        "\n",
        "\n",
        "**Transfer Learning** - The primary focus of NLP is “pretraining + finetuning”. Transfer learning has dominated NLP research over the last two years. ULMFiT, CoVe, ELMo, OpenAI GPT, BERT, OpenAI GPT-2, XLNet, RoBERTa, ALBERT – this is a non-exhaustive list of important pretrained language models introduced recently. \n",
        "\n",
        "**Incorporating Linguistics and knowledge** In NLP models is advancing their performance.Experts believe that linguistics can boost deep learning by improving the interpretability of the data-driven approach. Leveraging the context and human knowledge can further improve the performance of NLP systems.\n",
        "\n",
        "**Neural machine translation** has demonstrated progress over the last couple of years. The recent research breakthroughs seek to further improve the quality of translation by optimizing neural network architectures, leveraging visual context, and introducing novel approaches to unsupervised and semi-supervised machine translation.\n",
        "\n",
        "## Important Research papers\n",
        "\n",
        "1. [Link](https://arxiv.org/pdf/1905.05950.pdf)\n",
        "2. [List of Major Papers in the field](https://www.topbots.com/top-ai-nlp-research-papers-2019/#ai-nlp-paper-2019-11)"
      ]
    },
    {
      "cell_type": "markdown",
      "metadata": {
        "id": "n5kqFKmct85w"
      },
      "source": [
        "# Conversational AI\n",
        "\n",
        "AI-powered chatbots is one of the top AI trends to watch in 2021. AI-powered chatbots, also known as Conversational AI, improves reach, responsiveness, and personalization of the customer experience.\n",
        "\n",
        "A conversational AI agent uses natural language processing (NLP) and Machine Learning (ML) to better understand what the human says and needs in order to provide a more natural, near human-level of communication. In other words, AI-powered chatbots mimic human conversation.\n",
        "\n",
        "Conversational AI digital assistants is one of the digital transformation trends for 2021 and beyond. The AI digital agents become more intelligent, more human-like, and more natural. Intelligent virtual assistants have come a long way from when they showed a robotic nature years ago.\n",
        "\n",
        "## Trending Topics\n",
        "\n",
        "1. Dialog systems are improving at tracking long-term aspects of a conversation.\n",
        "2. Many research teams are addressing the diversity of machine-generated responses\n",
        "3. Emotion recognition is seen as an important feature for open-domain chatbots.\n",
        "\n",
        "## Important Research Papers\n",
        "\n",
        "1. [Link](https://arxiv.org/pdf/1905.08743.pdf)\n",
        "2. [Link](https://arxiv.org/pdf/1906.01603.pdf)\n",
        "3. [Link](https://arxiv.org/pdf/1902.11205.pdf)\n",
        "\n",
        "\n",
        "\n",
        "[Source](https://interestingengineering.com/conversational-artificial-intelligence-trends-for-2021)"
      ]
    },
    {
      "cell_type": "markdown",
      "metadata": {
        "id": "ul1gbyqd2aIL"
      },
      "source": [
        "# Computer Vision\n",
        "\n",
        "[Article](https://medium.com/bitgrit-data-science-publication/5-computer-vision-trends-for-2021-96fd18d5596c)\n",
        "\n",
        "Computer vision (CV) systems are revolutionizing whole industries and business functions with successful applications in healthcare, security, transportation, retail, banking, agriculture, and more.\n",
        "\n",
        "## Trending Topics\n",
        "\n",
        "1. **3D** is currently one of the leading research areas in CV. This year, we saw several interesting research papers aiming at reconstructing our 3D world from its 2D projections. The Google Research team introduced a novel approach to generating depth maps of entire natural scenes. The Facebook AI team suggested an interesting solution for 3D object detection in point clouds.\n",
        "\n",
        "2. The popularity of **unsupervised learning** methods is growing. For example, a research team from Stanford University introduced a promising Local Aggregation approach to object detection and recognition with unsupervised learning. In another great paper, nominated for the ICCV 2019 Best Paper Award, unsupervised learning was used to compute correspondences across 3D shapes.\n",
        "\n",
        "3. Computer vision research is being successfully **combined with NLP**. The latest research advances enable robust change captioning between two images in natural language, vision-language navigation in 3D environments, and learning hierarchical vision-language representation for better image caption retrieval and visual grounding.\n",
        "\n",
        "## Important Papers\n",
        "\n",
        "1. [Link](https://openaccess.thecvf.com/content_CVPR_2019/papers/Xin_A_Theory_of_Fermat_Paths_for_Non-Line-Of-Sight_Shape_Reconstruction_CVPR_2019_paper.pdf)\n",
        "\n",
        "2. [Link](https://openaccess.thecvf.com/content_ICCV_2019/papers/Zhuang_Local_Aggregation_for_Unsupervised_Learning_of_Visual_Embeddings_ICCV_2019_paper.pdf)\n",
        "\n",
        "3. [Link](https://openaccess.thecvf.com/content_CVPR_2019/papers/Wang_Reinforced_Cross-Modal_Matching_and_Self-Supervised_Imitation_Learning_for_Vision-Language_Navigation_CVPR_2019_paper.pdf)"
      ]
    },
    {
      "cell_type": "markdown",
      "metadata": {
        "id": "zn0S2qua3yUM"
      },
      "source": [
        "# Reinforcement Learning\n",
        "\n",
        "Reinforcement Learning (RL) has not been widely adotped in businesses and other fields yet. Experts believe RL as a promising path towards Artificial General Intelligence (AGI), or true intelligence. Thus, research teams from across the world are seeking ways to make RL algorithms more sample-efficient and stable.\n",
        "\n",
        "## Trending Topics\n",
        "\n",
        "1. **Multi-agent reinforcement learning (MARL)** is rapidly advancing. The OpenAI team has recently demonstrated how the agents in a simulated hide-and-seek environment were able to build strategies that researchers did not know their environment supported.\n",
        "\n",
        "2. **Off-policy evaluation** and off-policy learning are recognized as very important for future RL applications. The recent breakthroughs in this research area include new solutions for batch policy learning under multiple constraints, combining parametric and non-parametric models, and introducing a novel class of off-policy algorithms to force an agent towards acting close to on-policy.\n",
        "3. **Exploration** is an area where serious progress can be achieved. The papers presented at ICML 2019 introduced new efficient exploration methods with distributional RL, maximum entropy exploration, and a security condition to deal with the bridge effect in reinforcement learning.\n",
        "\n",
        "## Important Research Papers\n",
        "\n",
        "1. [Link](https://arxiv.org/pdf/1809.01843.pdf)\n",
        "2. [Link](https://arxiv.org/pdf/2005.01643.pdf)"
      ]
    },
    {
      "cell_type": "markdown",
      "metadata": {
        "id": "sKgdHfsi4WLW"
      },
      "source": [
        "# Recommender Systems\n",
        "\n",
        "Recommender systems are become more and more prominent as user generated data is growing. In addition to the content, collaborative and hybrid techniques, there is an increased use of deep learning to recommend items to users.\n",
        "\n",
        "## Trending Topics\n",
        "\n",
        "1. **CNN Based Recommender Systems** - CNN can be used to extract features from the text.\n",
        "[DeepCoNN](https://arxiv.org/pdf/1701.04783.pdf) adopts 2 parallel CNNs to model user behaviors and item properties from review texts. This model alleviates the sparsity problem and enhances the model interpretability by exploiting rich semantic representation of review texts with CNNs. It utilizes a word embedding technique to map the review texts into a lower-dimensional semantic space as well as keep the words sequences information. The extracted review representations then pass through a convolutional layer with different kernels, a max-pooling layer, and a fully-connected layer consecutively.\n",
        "\n",
        "2. **Automatic Recommendation Technology** for Learning Resources with Convolutional Neural Network builds an e-learning resources recommendation model, which uses CNNs to extract item features from text information of learning resources such as the introduction and the content of learning material.[Link](https://ieeexplore.ieee.org/document/7685589)\n",
        "3. CNN can be used to **extract features from audio and video**.\n",
        "Deep Content-Based Music Recommendation uses CNN to extract features from music signals. The convolutional kernels and pooling layers allow operations at multiple timescales. This content-based model can alleviate the cold-start problem of music recommendation.[Link](https://dl.acm.org/doi/10.5555/2999792.2999907)\n",
        "4. **Collaborative Deep Metric Learning** for Video Understanding extracts audio features with the prominent CNN-based model ResNet. The recommendation is performed in the collaborative metric learning framework, similar to CML mentioned earlier.[Link](https://dl.acm.org/doi/10.1145/3219819.3219856)\n",
        "5. **Reciprocal Recommender Systems** recommend person to person instead of item to person. With multiple peer to peer systems in use the significance of bilateral recommendations is growing. In [Latent factor models](https://dl.acm.org/doi/pdf/10.1145/3298689.3347026?casa_token=E6-oTu1qFosAAAAA:5o9PdAINSMF561Fu3GZy64N-ZtAwJ4LE5LRmSQoo8H3mwQ-H_2S4O_oqNBqvzB-zqW854vjzukkFXw) a separate latent factor matrix is created for one set of user to another and finally combined to estimate an aggregated preference.\n",
        "\n",
        "## Important Research Papers\n",
        "\n",
        "1. [Link](https://dl.acm.org/doi/pdf/10.1145/3285029?casa_token=OHNZI0veGG4AAAAA:jINm6mJLY5qSINg22Ob7lEzBVGo7ToOt6UVcUej9ViWT53egoIbElsDH9usIX7dkSUlPi2J2VHrv8w)\n",
        "\n",
        "2. [Link](https://dl.acm.org/doi/pdf/10.1145/2988450.2988454)"
      ]
    },
    {
      "cell_type": "markdown",
      "metadata": {
        "id": "fbGOuOLOgSfr"
      },
      "source": [
        "# AutoML\n",
        "\n",
        "In a typical machine learning application, practitioners have a set of input data points to be used for training. The raw data may not be in a form that all algorithms can be applied to it. To make the data amenable for machine learning, an expert may have to apply appropriate data pre-processing, feature engineering, feature extraction, and feature selection methods. After these steps, practitioners must then perform algorithm selection and hyperparameter optimization to maximize the predictive performance of their model. Each of these steps may be challenging, resulting in significant hurdles to using machine learning.\n",
        "\n",
        "AutoML dramatically simplifies these steps for non-experts.\n",
        "Automated Machine Learning (AutoML) is tied in with producing Machine Learning solutions for the data scientist without doing unlimited inquiries on data preparation, model selection, model hyperparameters, and model compression parameters.\n",
        "On top of that AutoML frameworks help the data scientist in:\n",
        "\n",
        "Data visualization\n",
        "\n",
        "Model intelligibility\n",
        "\n",
        "Model deployment\n",
        "\n",
        "[Source 1](https://towardsdatascience.com/what-is-automl-6ddf27040f27\n",
        ")\n",
        "\n",
        "[Source 2](https://en.wikipedia.org/wiki/Automated_machine_learning)"
      ]
    },
    {
      "cell_type": "markdown",
      "metadata": {
        "id": "NU7iyz5kh2LV"
      },
      "source": [
        "# What is the future of AI?\n",
        "\n",
        "AI is transforming the way we live. With its higher than expected adoption, its been often termed as the fourth industrial revolution.\n",
        "\n",
        "AI will bring more smarter machines to make our lives easier and better. Once luxury, Mobile Phones have become important part of our life. And, AI becoming part of our daily lives is not too far.\n",
        "\n",
        "AI will definitely make some jobs obsolete. Repetitive, mundane tasks will be taken over and at the same time will bring newer opportunities. Companies should ensure new jobs are created for the employees, and reskill them for innovative jobs.\n",
        "\n",
        "Eminent scientist, Stephen Hawking warned that development of full artificial intelligence could spell the end of human race. Elon Musk, chief executive of SpaceX fears AI could be our biggest threat.\n",
        "AI in the hands of wrong people and wrong applications of AI can be a threat.\n",
        "\n",
        "**Existential risk** from artificial general intelligence is the hypothesis that substantial progress in artificial general intelligence (AGI) could someday result in human extinction or some other unrecoverable global catastrophe.[1][2][3] It is argued that the human species currently dominates other species because the human brain has some distinctive capabilities that other animals lack. If AI surpasses humanity in general intelligence and becomes \"superintelligent\", then it could become difficult or impossible for humans to control. Just as the fate of the mountain gorilla depends on human goodwill, so might the fate of humanity depend on the actions of a future machine superintelligence.[Link](https://en.wikipedia.org/wiki/Existential_risk_from_artificial_general_intelligence)\n",
        "\n",
        "[Source](https://www.edgeverve.com/xtractedge/blogs/ai-humans-way-forward/)"
      ]
    },
    {
      "cell_type": "markdown",
      "metadata": {
        "id": "hjIEpNZiky96"
      },
      "source": [
        "# References\n",
        "\n",
        "[Source 1](https://www.topbots.com/top-ai-ml-research-trends-2020/)\n",
        "\n"
      ]
    }
  ]
}