{
  "nbformat": 4,
  "nbformat_minor": 0,
  "metadata": {
    "colab": {
      "name": "Lecture 25.ipynb",
      "provenance": [],
      "collapsed_sections": [],
      "authorship_tag": "ABX9TyOqd3lFQ2jqfnBn74Gbtq59",
      "include_colab_link": true
    },
    "kernelspec": {
      "name": "python3",
      "display_name": "Python 3"
    },
    "language_info": {
      "name": "python"
    }
  },
  "cells": [
    {
      "cell_type": "markdown",
      "metadata": {
        "id": "view-in-github",
        "colab_type": "text"
      },
      "source": [
        "<a href=\"https://colab.research.google.com/github/Uzmamushtaque/CSCI4962-Projects-ML-AI/blob/main/Lecture_25.ipynb\" target=\"_parent\"><img src=\"https://colab.research.google.com/assets/colab-badge.svg\" alt=\"Open In Colab\"/></a>"
      ]
    },
    {
      "cell_type": "markdown",
      "metadata": {
        "id": "WdDgL2vLjy-d"
      },
      "source": [
        "# Lecture 25\n",
        "\n",
        "## Topics for Today\n",
        "\n",
        "Top AI and ML Research trends in the following fields:     \n",
        "  a. Natural Language Processing\n",
        "\n",
        "  b. Coversational AI\n",
        "\n",
        "  c. Computer Vision\n",
        "\n",
        "  d. Reinforcement Learning\n",
        "\n",
        "\n",
        "\n"
      ]
    },
    {
      "cell_type": "markdown",
      "metadata": {
        "id": "-1TdTw2ilVCa"
      },
      "source": [
        "# Natural Language Processing\n",
        "\n",
        "Pretrained language Models have dominated NLP research over the last couple of years. These models have pushed the limits of natural language understanding and generation. \n",
        "Teams from top research institutions and tech companies are exploring ways to make state-of-the-art language models even more sophisticated.\n",
        "\n",
        "**Trending topics**\n",
        "\n",
        "**Transfer Learning** - The primary focus of NLP is “pretraining + finetuning”. Transfer learning has dominated NLP research over the last two years. ULMFiT, CoVe, ELMo, OpenAI GPT, BERT, OpenAI GPT-2, XLNet, RoBERTa, ALBERT – this is a non-exhaustive list of important pretrained language models introduced recently. \n",
        "\n",
        "**Incorporating Linguistics and knowledge** In NLP models is advancing their performance.Experts believe that linguistics can boost deep learning by improving the interpretability of the data-driven approach. Leveraging the context and human knowledge can further improve the performance of NLP systems.\n",
        "\n",
        "**Neural machine translation** has demonstrated progress over the last couple of years. The recent research breakthroughs seek to further improve the quality of translation by optimizing neural network architectures, leveraging visual context, and introducing novel approaches to unsupervised and semi-supervised machine translation.\n",
        "\n",
        "## Important Research papers\n",
        "\n",
        "1. [Link](https://arxiv.org/pdf/1905.05950.pdf)\n",
        "2. [List of Major Papers in the field](https://www.topbots.com/top-ai-nlp-research-papers-2019/#ai-nlp-paper-2019-11)"
      ]
    },
    {
      "cell_type": "markdown",
      "metadata": {
        "id": "n5kqFKmct85w"
      },
      "source": [
        "# Conversational AI\n",
        "\n",
        "AI-powered chatbots is one of the top AI trends to watch in 2021. AI-powered chatbots, also known as Conversational AI, improves reach, responsiveness, and personalization of the customer experience."
      ]
    },
    {
      "cell_type": "markdown",
      "metadata": {
        "id": "hjIEpNZiky96"
      },
      "source": [
        "# References\n",
        "\n",
        "[Source 1](https://www.topbots.com/top-ai-ml-research-trends-2020/)\n",
        "\n"
      ]
    }
  ]
}