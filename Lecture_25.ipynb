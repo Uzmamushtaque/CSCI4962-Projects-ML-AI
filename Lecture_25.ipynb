{
  "nbformat": 4,
  "nbformat_minor": 0,
  "metadata": {
    "colab": {
      "name": "Lecture 25.ipynb",
      "provenance": [],
      "collapsed_sections": [],
      "authorship_tag": "ABX9TyMBPi8F3gKJd4ESgaGSAa6l",
      "include_colab_link": true
    },
    "kernelspec": {
      "name": "python3",
      "display_name": "Python 3"
    },
    "language_info": {
      "name": "python"
    }
  },
  "cells": [
    {
      "cell_type": "markdown",
      "metadata": {
        "id": "view-in-github",
        "colab_type": "text"
      },
      "source": [
        "<a href=\"https://colab.research.google.com/github/Uzmamushtaque/CSCI4962-Projects-ML-AI/blob/main/Lecture_25.ipynb\" target=\"_parent\"><img src=\"https://colab.research.google.com/assets/colab-badge.svg\" alt=\"Open In Colab\"/></a>"
      ]
    },
    {
      "cell_type": "markdown",
      "metadata": {
        "id": "WdDgL2vLjy-d"
      },
      "source": [
        "# Lecture 25\n",
        "\n",
        "## Topics for Today\n",
        "\n",
        "Top AI and ML Research trends in the following fields:  \n",
        "\n",
        "  a. Natural Language Processing\n",
        "\n",
        "  b. Coversational AI\n",
        "\n",
        "  c. Computer Vision\n",
        "\n",
        "  d. Reinforcement Learning\n",
        "\n",
        "  e. Recommender Systems and Information Retrieval Systems\n",
        "\n",
        "\n",
        "\n"
      ]
    },
    {
      "cell_type": "markdown",
      "metadata": {
        "id": "-1TdTw2ilVCa"
      },
      "source": [
        "# Natural Language Processing\n",
        "\n",
        "Pretrained language Models have dominated NLP research over the last couple of years. These models have pushed the limits of natural language understanding and generation. \n",
        "Teams from top research institutions and tech companies are exploring ways to make state-of-the-art language models even more sophisticated.\n",
        "\n",
        "**Trending topics**\n",
        "\n",
        "\n",
        "**Transfer Learning** - The primary focus of NLP is “pretraining + finetuning”. Transfer learning has dominated NLP research over the last two years. ULMFiT, CoVe, ELMo, OpenAI GPT, BERT, OpenAI GPT-2, XLNet, RoBERTa, ALBERT – this is a non-exhaustive list of important pretrained language models introduced recently. \n",
        "\n",
        "**Incorporating Linguistics and knowledge** In NLP models is advancing their performance.Experts believe that linguistics can boost deep learning by improving the interpretability of the data-driven approach. Leveraging the context and human knowledge can further improve the performance of NLP systems.\n",
        "\n",
        "**Neural machine translation** has demonstrated progress over the last couple of years. The recent research breakthroughs seek to further improve the quality of translation by optimizing neural network architectures, leveraging visual context, and introducing novel approaches to unsupervised and semi-supervised machine translation.\n",
        "\n",
        "## Important Research papers\n",
        "\n",
        "1. [Link](https://arxiv.org/pdf/1905.05950.pdf)\n",
        "2. [List of Major Papers in the field](https://www.topbots.com/top-ai-nlp-research-papers-2019/#ai-nlp-paper-2019-11)"
      ]
    },
    {
      "cell_type": "markdown",
      "metadata": {
        "id": "n5kqFKmct85w"
      },
      "source": [
        "# Conversational AI\n",
        "\n",
        "AI-powered chatbots is one of the top AI trends to watch in 2021. AI-powered chatbots, also known as Conversational AI, improves reach, responsiveness, and personalization of the customer experience.\n",
        "\n",
        "A conversational AI agent uses natural language processing (NLP) and Machine Learning (ML) to better understand what the human says and needs in order to provide a more natural, near human-level of communication. In other words, AI-powered chatbots mimic human conversation.\n",
        "\n",
        "Conversational AI digital assistants is one of the digital transformation trends for 2021 and beyond. The AI digital agents become more intelligent, more human-like, and more natural. Intelligent virtual assistants have come a long way from when they showed a robotic nature years ago.\n",
        "\n",
        "## Trending Topics\n",
        "\n",
        "1. Dialog systems are improving at tracking long-term aspects of a conversation.\n",
        "2. Many research teams are addressing the diversity of machine-generated responses\n",
        "3. Emotion recognition is seen as an important feature for open-domain chatbots.\n",
        "\n",
        "## Important Research Papers\n",
        "\n",
        "1. [Link](https://arxiv.org/pdf/1905.08743.pdf)\n",
        "2. [Link](https://arxiv.org/pdf/1906.01603.pdf)\n",
        "3. [Link](https://arxiv.org/pdf/1902.11205.pdf)\n",
        "\n",
        "\n",
        "\n",
        "[Source](https://interestingengineering.com/conversational-artificial-intelligence-trends-for-2021)"
      ]
    },
    {
      "cell_type": "markdown",
      "metadata": {
        "id": "ul1gbyqd2aIL"
      },
      "source": [
        "# Computer Vision\n",
        "\n",
        "[Article](https://medium.com/bitgrit-data-science-publication/5-computer-vision-trends-for-2021-96fd18d5596c)\n",
        "\n",
        "Computer vision (CV) systems are revolutionizing whole industries and business functions with successful applications in healthcare, security, transportation, retail, banking, agriculture, and more.\n",
        "\n",
        "## Trending Topics\n",
        "\n",
        "1. **3D** is currently one of the leading research areas in CV. This year, we saw several interesting research papers aiming at reconstructing our 3D world from its 2D projections. The Google Research team introduced a novel approach to generating depth maps of entire natural scenes. The Facebook AI team suggested an interesting solution for 3D object detection in point clouds.\n",
        "\n",
        "2. The popularity of **unsupervised learning** methods is growing. For example, a research team from Stanford University introduced a promising Local Aggregation approach to object detection and recognition with unsupervised learning. In another great paper, nominated for the ICCV 2019 Best Paper Award, unsupervised learning was used to compute correspondences across 3D shapes.\n",
        "\n",
        "3. Computer vision research is being successfully **combined with NLP**. The latest research advances enable robust change captioning between two images in natural language, vision-language navigation in 3D environments, and learning hierarchical vision-language representation for better image caption retrieval and visual grounding.\n",
        "\n",
        "## Important Papers\n",
        "\n",
        "1. [Link](https://openaccess.thecvf.com/content_CVPR_2019/papers/Xin_A_Theory_of_Fermat_Paths_for_Non-Line-Of-Sight_Shape_Reconstruction_CVPR_2019_paper.pdf)\n",
        "\n",
        "2. [Link](https://openaccess.thecvf.com/content_ICCV_2019/papers/Zhuang_Local_Aggregation_for_Unsupervised_Learning_of_Visual_Embeddings_ICCV_2019_paper.pdf)\n",
        "\n",
        "3. [Link](https://openaccess.thecvf.com/content_CVPR_2019/papers/Wang_Reinforced_Cross-Modal_Matching_and_Self-Supervised_Imitation_Learning_for_Vision-Language_Navigation_CVPR_2019_paper.pdf)"
      ]
    },
    {
      "cell_type": "markdown",
      "metadata": {
        "id": "zn0S2qua3yUM"
      },
      "source": [
        "# Reinforcement Learning\n",
        "\n"
      ]
    },
    {
      "cell_type": "markdown",
      "metadata": {
        "id": "sKgdHfsi4WLW"
      },
      "source": [
        "# Recommender Systems"
      ]
    },
    {
      "cell_type": "markdown",
      "metadata": {
        "id": "hjIEpNZiky96"
      },
      "source": [
        "# References\n",
        "\n",
        "[Source 1](https://www.topbots.com/top-ai-ml-research-trends-2020/)\n",
        "\n"
      ]
    }
  ]
}