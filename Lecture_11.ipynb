{
  "nbformat": 4,
  "nbformat_minor": 0,
  "metadata": {
    "colab": {
      "name": "Lecture 11.ipynb",
      "provenance": [],
      "collapsed_sections": [],
      "authorship_tag": "ABX9TyMzIxmDFBlhEMSKBeJ3KwAp",
      "include_colab_link": true
    },
    "kernelspec": {
      "name": "python3",
      "display_name": "Python 3"
    },
    "language_info": {
      "name": "python"
    }
  },
  "cells": [
    {
      "cell_type": "markdown",
      "metadata": {
        "id": "view-in-github",
        "colab_type": "text"
      },
      "source": [
        "<a href=\"https://colab.research.google.com/github/Uzmamushtaque/CSCI4962-Projects-ML-AI/blob/main/Lecture_11.ipynb\" target=\"_parent\"><img src=\"https://colab.research.google.com/assets/colab-badge.svg\" alt=\"Open In Colab\"/></a>"
      ]
    },
    {
      "cell_type": "markdown",
      "metadata": {
        "id": "emdAMv5dEO9t"
      },
      "source": [
        "# Lecture 11\n",
        "\n",
        "# Today's Lecture\n",
        "\n",
        "1. More about CNN\n",
        "2. Case studies"
      ]
    },
    {
      "cell_type": "markdown",
      "metadata": {
        "id": "LjXXWpuSkD0J"
      },
      "source": [
        "# Classic Networks\n",
        "\n",
        "#LeNet-5\n",
        "\n",
        "\n",
        "[Source](http://lushuangning.oss-cn-beijing.aliyuncs.com/CNN%E5%AD%A6%E4%B9%A0%E7%B3%BB%E5%88%97/Gradient-Based_Learning_Applied_to_Document_Recognition.pdf)"
      ]
    },
    {
      "cell_type": "markdown",
      "metadata": {
        "id": "gZH3Mtwp9iAa"
      },
      "source": [
        "# AlexNet\n",
        "\n",
        "[Source](https://proceedings.neurips.cc/paper/2012/file/c399862d3b9d6b76c8436e924a68c45b-Paper.pdf)"
      ]
    },
    {
      "cell_type": "markdown",
      "metadata": {
        "id": "X7JpqGQ7MJsQ"
      },
      "source": [
        "# VGG-16\n",
        "\n",
        "[Source](https://arxiv.org/pdf/1409.1556.pdf(2014.pdf)"
      ]
    },
    {
      "cell_type": "markdown",
      "metadata": {
        "id": "zmLmp2c4MXPm"
      },
      "source": [
        "# ResNets\n",
        "\n",
        "[Source](https://openaccess.thecvf.com/content_cvpr_2016/papers/He_Deep_Residual_Learning_CVPR_2016_paper.pdf)"
      ]
    },
    {
      "cell_type": "markdown",
      "metadata": {
        "id": "Sp6RGpl3mwD4"
      },
      "source": [
        "# Inception\n",
        "\n",
        "[Source](https://www.cv-foundation.org/openaccess/content_cvpr_2015/papers/Szegedy_Going_Deeper_With_2015_CVPR_paper.pdf)"
      ]
    },
    {
      "cell_type": "markdown",
      "metadata": {
        "id": "4UUXc2CFnee7"
      },
      "source": [
        "# Introduction to Object Detection\n",
        "\n",
        "[Article](https://towardsdatascience.com/r-cnn-fast-r-cnn-faster-r-cnn-yolo-object-detection-algorithms-36d53571365e)\n",
        "\n",
        "[Implementation](https://www.tensorflow.org/hub/tutorials/object_detection)\n",
        "\n",
        "\n",
        "[Source](https://arxiv.org/pdf/1311.2524.pdf)"
      ]
    },
    {
      "cell_type": "markdown",
      "metadata": {
        "id": "QabQHbBNlSyc"
      },
      "source": [
        "# Readings\n",
        "\n",
        "[Paper 1](https://arxiv.org/pdf/1312.4400.pdf%5c%20http://arxiv.org/abs/1312.4400.pdf)\n",
        "\n"
      ]
    },
    {
      "cell_type": "code",
      "metadata": {
        "id": "iTfugHRFJNMG"
      },
      "source": [
        ""
      ],
      "execution_count": null,
      "outputs": []
    }
  ]
}