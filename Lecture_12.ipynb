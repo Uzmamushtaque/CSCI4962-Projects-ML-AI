{
  "nbformat": 4,
  "nbformat_minor": 0,
  "metadata": {
    "colab": {
      "name": "Lecture 12.ipynb",
      "provenance": [],
      "collapsed_sections": [],
      "authorship_tag": "ABX9TyPWEJJ43pAufIJqLxnHSEMz",
      "include_colab_link": true
    },
    "kernelspec": {
      "name": "python3",
      "display_name": "Python 3"
    },
    "language_info": {
      "name": "python"
    }
  },
  "cells": [
    {
      "cell_type": "markdown",
      "metadata": {
        "id": "view-in-github",
        "colab_type": "text"
      },
      "source": [
        "<a href=\"https://colab.research.google.com/github/Uzmamushtaque/CSCI4962-Projects-ML-AI/blob/main/Lecture_12.ipynb\" target=\"_parent\"><img src=\"https://colab.research.google.com/assets/colab-badge.svg\" alt=\"Open In Colab\"/></a>"
      ]
    },
    {
      "cell_type": "markdown",
      "metadata": {
        "id": "jvEZ0i-2_mKd"
      },
      "source": [
        "# Lecture 12\n",
        "\n",
        "# Today's Topic\n",
        "\n",
        "1. Unsupervised Learning\n",
        "2. Introduction to Autoencoders"
      ]
    },
    {
      "cell_type": "markdown",
      "metadata": {
        "id": "LtGoNbaK_1OI"
      },
      "source": [
        "# Readings/ References\n",
        "\n",
        "[Article1](https://www.jeremyjordan.me/autoencoders/)\n",
        "\n",
        "[Article 2](https://towardsdatascience.com/applied-deep-learning-part-3-autoencoders-1c083af4d798)\n",
        "\n",
        "[Chapter](https://www.deeplearningbook.org/contents/autoencoders.html)"
      ]
    }
  ]
}