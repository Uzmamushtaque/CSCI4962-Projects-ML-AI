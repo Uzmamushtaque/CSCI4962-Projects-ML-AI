{
  "nbformat": 4,
  "nbformat_minor": 0,
  "metadata": {
    "colab": {
      "name": "Lecture 9.ipynb",
      "provenance": [],
      "collapsed_sections": [],
      "authorship_tag": "ABX9TyMytspdmd1ozp1iINGrQAgi",
      "include_colab_link": true
    },
    "kernelspec": {
      "name": "python3",
      "display_name": "Python 3"
    },
    "language_info": {
      "name": "python"
    }
  },
  "cells": [
    {
      "cell_type": "markdown",
      "metadata": {
        "id": "view-in-github",
        "colab_type": "text"
      },
      "source": [
        "<a href=\"https://colab.research.google.com/github/Uzmamushtaque/CSCI4962-Projects-ML-AI/blob/main/Lecture_9.ipynb\" target=\"_parent\"><img src=\"https://colab.research.google.com/assets/colab-badge.svg\" alt=\"Open In Colab\"/></a>"
      ]
    },
    {
      "cell_type": "markdown",
      "metadata": {
        "id": "uBDQJEuiViV1"
      },
      "source": [
        "# Lecture 9\n",
        "\n",
        "# Today's Topics\n",
        "\n",
        "1. Sequence to sequence models\n",
        "2. Transformers"
      ]
    },
    {
      "cell_type": "markdown",
      "metadata": {
        "id": "C_ZvFNlxHRCx"
      },
      "source": [
        "# Sequence to Sequence Models\n",
        "\n",
        "Models for machine translation require the entire sequence to be translated to another sequence.\n",
        "\n",
        "The encoder-decoder architecture for recurrent neural networks is the standard neural machine translation method that rivals and in some cases outperforms classical statistical machine translation methods.\n",
        "\n",
        "\n",
        "\n",
        "[Source](https://arxiv.org/abs/1409.3215)"
      ]
    },
    {
      "cell_type": "markdown",
      "metadata": {
        "id": "hWH7gA5cWYXT"
      },
      "source": [
        "# Readings\n",
        "\n",
        "[Paper 1](https://proceedings.neurips.cc/paper/2014/file/a14ac55a4f27472c5d894ec1c3c743d2-Paper.pdf)\n",
        "\n",
        "[Paper 2](https://arxiv.org/pdf/1406.1078.pdf?source=post_page---------------------------)"
      ]
    }
  ]
}