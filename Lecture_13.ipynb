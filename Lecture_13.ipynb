{
  "nbformat": 4,
  "nbformat_minor": 0,
  "metadata": {
    "colab": {
      "name": "Lecture 13.ipynb",
      "provenance": [],
      "collapsed_sections": [],
      "authorship_tag": "ABX9TyPHCM1Qno3aOBTKiLELRaBV",
      "include_colab_link": true
    },
    "kernelspec": {
      "name": "python3",
      "display_name": "Python 3"
    },
    "language_info": {
      "name": "python"
    }
  },
  "cells": [
    {
      "cell_type": "markdown",
      "metadata": {
        "id": "view-in-github",
        "colab_type": "text"
      },
      "source": [
        "<a href=\"https://colab.research.google.com/github/Uzmamushtaque/CSCI4962-Projects-ML-AI/blob/main/Lecture_13.ipynb\" target=\"_parent\"><img src=\"https://colab.research.google.com/assets/colab-badge.svg\" alt=\"Open In Colab\"/></a>"
      ]
    },
    {
      "cell_type": "markdown",
      "metadata": {
        "id": "d4v8Hm86aiSC"
      },
      "source": [
        "# Lecture 13\n",
        "\n",
        "# Topics for today\n",
        "\n",
        "1. Generative Adversarial Networks"
      ]
    },
    {
      "cell_type": "markdown",
      "metadata": {
        "id": "1ogni2z9bFiz"
      },
      "source": [
        "GANs for short, are an approach to generative modeling using deep learning methods, such as convolutional neural networks.\n",
        "\n",
        "Generative modeling is an unsupervised learning task in machine learning that involves automatically discovering and learning the regularities or patterns in input data in such a way that the model can be used to generate or output new examples that plausibly could have been drawn from the original dataset."
      ]
    },
    {
      "cell_type": "markdown",
      "metadata": {
        "id": "bvtQJZ9Pc3EQ"
      },
      "source": [
        "# References\n",
        "\n",
        "[Paper 1](https://arxiv.org/pdf/1406.2661.pdf)\n",
        "\n",
        "[Paper 2](https://arxiv.org/pdf/1511.06434.pdf)"
      ]
    }
  ]
}