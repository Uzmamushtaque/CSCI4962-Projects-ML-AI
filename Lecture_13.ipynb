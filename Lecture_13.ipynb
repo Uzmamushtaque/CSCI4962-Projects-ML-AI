{
  "nbformat": 4,
  "nbformat_minor": 0,
  "metadata": {
    "colab": {
      "name": "Lecture 13.ipynb",
      "provenance": [],
      "collapsed_sections": [],
      "authorship_tag": "ABX9TyPd/mH3lrkIGorn2+9Qk2Fe",
      "include_colab_link": true
    },
    "kernelspec": {
      "name": "python3",
      "display_name": "Python 3"
    },
    "language_info": {
      "name": "python"
    }
  },
  "cells": [
    {
      "cell_type": "markdown",
      "metadata": {
        "id": "view-in-github",
        "colab_type": "text"
      },
      "source": [
        "<a href=\"https://colab.research.google.com/github/Uzmamushtaque/CSCI4962-Projects-ML-AI/blob/main/Lecture_13.ipynb\" target=\"_parent\"><img src=\"https://colab.research.google.com/assets/colab-badge.svg\" alt=\"Open In Colab\"/></a>"
      ]
    },
    {
      "cell_type": "markdown",
      "metadata": {
        "id": "d4v8Hm86aiSC"
      },
      "source": [
        "# Lecture 13\n",
        "\n",
        "# Topics for today\n",
        "\n",
        "1. Generative Adversarial Networks (GANs)\n",
        "2. Applications of GANs"
      ]
    },
    {
      "cell_type": "markdown",
      "metadata": {
        "id": "1ogni2z9bFiz"
      },
      "source": [
        "GANs for short, are an approach to generative modeling using deep learning methods, such as convolutional neural networks.\n",
        "\n",
        "Generative modeling is an unsupervised learning task in machine learning that involves automatically discovering and learning the regularities or patterns in input data in such a way that the model can be used to generate or output new examples that plausibly could have been drawn from the original dataset.\n",
        "\n",
        "Naive Bayes is an example of a generative model that is more often used as a discriminative model.\n",
        "\n",
        "For example, Naive Bayes works by summarizing the probability distribution of each input variable and the output class. When a prediction is made, the probability for each possible outcome is calculated for each variable, the independent probabilities are combined, and the most likely outcome is predicted. Used in reverse, the probability distributions for each variable can be sampled to generate new plausible (independent) feature values.\n",
        "\n",
        "Other examples of generative models include Latent Dirichlet Allocation, or LDA, and the Gaussian Mixture Model, or GMM.\n",
        "\n",
        "Deep learning methods can be used as generative models. Two popular examples include the Restricted Boltzmann Machine, or RBM, and the Deep Belief Network, or DBN.\n",
        "\n",
        "Two modern examples of deep learning generative modeling algorithms include the Variational Autoencoder, or VAE, and the Generative Adversarial Network, or GAN."
      ]
    },
    {
      "cell_type": "markdown",
      "metadata": {
        "id": "xOeB189akp2e"
      },
      "source": [
        "# Cycle GAN\n",
        "\n",
        "Training a model for image-to-image translation typically requires a large dataset of paired examples. These datasets can be difficult and expensive to prepare, and in some cases impossible, such as photographs of paintings by long dead artists.\n",
        "\n",
        "The CycleGAN is a technique that involves the automatic training of image-to-image translation models without paired examples. The models are trained in an unsupervised manner using a collection of images from the source and target domain that do not need to be related in any way.\n",
        "\n",
        "[Source](https://machinelearningmastery.com/what-is-cyclegan/)"
      ]
    },
    {
      "cell_type": "markdown",
      "metadata": {
        "id": "VEboKC4em-H-"
      },
      "source": [
        "# RecGans\n",
        "\n",
        "\n",
        "\n",
        "[Source](https://dl.acm.org/doi/pdf/10.1145/3240323.3240383?casa_token=lGrYK8rxMIMAAAAA:sifrGW2oDB2RQfG22JIfFvZGKxEpXJ3yhctLz8Sg21H5qeB5kIjA6F-9ltNUCSv_wa7R7b7iDw1unA)"
      ]
    },
    {
      "cell_type": "markdown",
      "metadata": {
        "id": "bvtQJZ9Pc3EQ"
      },
      "source": [
        "# References\n",
        "\n",
        "[Paper 1](https://arxiv.org/pdf/1406.2661.pdf)\n",
        "\n",
        "[Paper 2](https://arxiv.org/pdf/1511.06434.pdf)\n",
        "\n",
        "[Paper 3](https://arxiv.org/pdf/1703.10593.pdf)"
      ]
    }
  ]
}